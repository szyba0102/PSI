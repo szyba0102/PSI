{
 "cells": [
  {
   "cell_type": "markdown",
   "metadata": {},
   "source": [
    "# Sieci neuronowe"
   ]
  },
  {
   "cell_type": "markdown",
   "metadata": {},
   "source": [
    "## Wstęp\n",
    "\n",
    "Celem laboratorium jest zapoznanie się z podstawami sieci neuronowych oraz uczeniem głębokim (*deep learning*). Zapoznasz się na nim z następującymi tematami:\n",
    "- treningiem prostych sieci neuronowych, w szczególności z:\n",
    "  - regresją liniową w sieciach neuronowych\n",
    "  - optymalizacją funkcji kosztu\n",
    "  - algorytmem spadku wzdłuż gradientu\n",
    "  - siecią typu Multilayer Perceptron (MLP)\n",
    "- frameworkiem PyTorch, w szczególności z:\n",
    "  - ładowaniem danych\n",
    "  - preprocessingiem danych\n",
    "  - pisaniem pętli treningowej i walidacyjnej\n",
    "  - walidacją modeli\n",
    "- architekturą i hiperaprametrami sieci MLP, w szczególności z:\n",
    "  - warstwami gęstymi (w pełni połączonymi)\n",
    "  - funkcjami aktywacji\n",
    "  - regularyzacją: L2, dropout"
   ]
  },
  {
   "cell_type": "markdown",
   "metadata": {},
   "source": [
    "## Wykorzystywane biblioteki\n",
    "\n",
    "Zaczniemy od pisania ręcznie prostych sieci w bibliotece Numpy, służącej do obliczeń numerycznych na CPU. Później przejdziemy do wykorzystywania frameworka PyTorch, służącego do obliczeń numerycznych na CPU, GPU oraz automatycznego różniczkowania, wykorzystywanego głównie do treningu sieci neuronowych.\n",
    "\n",
    "Wykorzystamy PyTorcha ze względu na popularność, łatwość instalacji i użycia, oraz dużą kontrolę nad niskopoziomowymi aspektami budowy i treningu sieci neuronowych. Framework ten został stworzony do zastosowań badawczych i naukowych, ale ze względu na wygodę użycia stał się bardzo popularny także w przemyśle. W szczególności całkowicie zdominował przetwarzanie języka naturalnego (NLP) oraz uczenie na grafach.\n",
    "\n",
    "Pierwszy duży framework do deep learningu, oraz obecnie najpopularniejszy, to TensorFlow, wraz z wysokopoziomową nakładką Keras. Są jednak szanse, że Google (autorzy) będzie go powoli porzucać na rzecz ich nowego frameworka JAX ([dyskusja](https://www.reddit.com/r/MachineLearning/comments/vfl57t/d_google_quietly_moving_its_products_from/), [artykuł Business Insidera](https://www.businessinsider.com/facebook-pytorch-beat-google-tensorflow-jax-meta-ai-2022-6?IR=T)), który jest bardzo świeżym, ale ciekawym narzędziem.\n",
    "\n",
    "Trzecia, ale znacznie mniej popularna od powyższych opcja to Apache MXNet."
   ]
  },
  {
   "cell_type": "markdown",
   "metadata": {},
   "source": [
    "## Konfiguracja własnego komputera\n",
    "\n",
    "Jeżeli korzystasz z własnego komputera, to musisz zainstalować trochę więcej bibliotek (Google Colab ma je już zainstalowane).\n",
    "\n",
    "Jeżeli nie masz GPU lub nie chcesz z niego korzystać, to wystarczy znaleźć odpowiednią komendę CPU [na stronie PyTorcha](https://pytorch.org/get-started/locally/). Dla Anacondy odpowiednia komenda została podana poniżej, dla pip'a znajdź ją na stronie.\n",
    "\n",
    "Jeżeli chcesz korzystać ze wsparcia GPU (na tym laboratorium nie będzie potrzebne, na kolejnych może przyspieszyć nieco obliczenia), to musi być to odpowiednio nowa karta NVidii, mająca CUDA compatibility ([lista](https://developer.nvidia.com/cuda-gpus)). Poza PyTorchem będzie potrzebne narzędzie NVidia CUDA w wersji 11.6 lub 11.7. Instalacja na Windowsie jest bardzo prosta (wystarczy ściągnąć plik EXE i zainstalować jak każdy inny program). Instalacja na Linuxie jest trudna i można względnie łatwo zepsuć sobie system, ale jeżeli chcesz spróbować, to [ten tutorial](https://www.youtube.com/results?search_query=nvidia+cuda+install+ubuntu+20.04) jest bardzo dobry."
   ]
  },
  {
   "cell_type": "code",
   "execution_count": 20,
   "metadata": {},
   "outputs": [
    {
     "name": "stdout",
     "output_type": "stream",
     "text": [
      "Collecting package metadata (current_repodata.json): ...working... done\n",
      "Solving environment: ...working... done\n",
      "\n",
      "## Package Plan ##\n",
      "\n",
      "  environment location: C:\\Users\\wszyb\\anaconda3\n",
      "\n",
      "  added / updated specs:\n",
      "    - matplotlib\n",
      "    - pandas\n",
      "    - pytorch\n",
      "    - torchaudio\n",
      "    - torchvision\n",
      "\n",
      "\n",
      "The following packages will be downloaded:\n",
      "\n",
      "    package                    |            build\n",
      "    ---------------------------|-----------------\n",
      "    conda-22.9.0               |   py39hcbf5309_2         985 KB  conda-forge\n",
      "    libuv-1.44.2               |       h8ffe710_0         362 KB  conda-forge\n",
      "    pytorch-1.13.0             |      py3.9_cpu_0       138.2 MB  pytorch\n",
      "    pytorch-mutex-1.0          |              cpu           3 KB  pytorch\n",
      "    torchaudio-0.13.0          |         py39_cpu         4.5 MB  pytorch\n",
      "    torchvision-0.14.0         |         py39_cpu         6.3 MB  pytorch\n",
      "    ------------------------------------------------------------\n",
      "                                           Total:       150.3 MB\n",
      "\n",
      "The following NEW packages will be INSTALLED:\n",
      "\n",
      "  libuv              conda-forge/win-64::libuv-1.44.2-h8ffe710_0 None\n",
      "  pytorch            pytorch/win-64::pytorch-1.13.0-py3.9_cpu_0 None\n",
      "  pytorch-mutex      pytorch/noarch::pytorch-mutex-1.0-cpu None\n",
      "  torchaudio         pytorch/win-64::torchaudio-0.13.0-py39_cpu None\n",
      "  torchvision        pytorch/win-64::torchvision-0.14.0-py39_cpu None\n",
      "\n",
      "The following packages will be UPDATED:\n",
      "\n",
      "  conda                               22.9.0-py39hcbf5309_1 --> 22.9.0-py39hcbf5309_2 None\n",
      "\n",
      "\n",
      "\n",
      "Downloading and Extracting Packages\n",
      "\n",
      "pytorch-1.13.0       | 138.2 MB  |            |   0% \n",
      "pytorch-1.13.0       | 138.2 MB  |            |   0% \n",
      "pytorch-1.13.0       | 138.2 MB  | 1          |   1% \n",
      "pytorch-1.13.0       | 138.2 MB  | 2          |   2% \n",
      "pytorch-1.13.0       | 138.2 MB  | 4          |   5% \n",
      "pytorch-1.13.0       | 138.2 MB  | 7          |   7% \n",
      "pytorch-1.13.0       | 138.2 MB  | 9          |  10% \n",
      "pytorch-1.13.0       | 138.2 MB  | #2         |  13% \n",
      "pytorch-1.13.0       | 138.2 MB  | #5         |  15% \n",
      "pytorch-1.13.0       | 138.2 MB  | #8         |  19% \n",
      "pytorch-1.13.0       | 138.2 MB  | ##1        |  21% \n",
      "pytorch-1.13.0       | 138.2 MB  | ##4        |  24% \n",
      "pytorch-1.13.0       | 138.2 MB  | ##7        |  27% \n",
      "pytorch-1.13.0       | 138.2 MB  | ###        |  31% \n",
      "pytorch-1.13.0       | 138.2 MB  | ###3       |  33% \n",
      "pytorch-1.13.0       | 138.2 MB  | ###6       |  36% \n",
      "pytorch-1.13.0       | 138.2 MB  | ###9       |  39% \n",
      "pytorch-1.13.0       | 138.2 MB  | ####2      |  42% \n",
      "pytorch-1.13.0       | 138.2 MB  | ####5      |  45% \n",
      "pytorch-1.13.0       | 138.2 MB  | ####8      |  48% \n",
      "pytorch-1.13.0       | 138.2 MB  | #####1     |  51% \n",
      "pytorch-1.13.0       | 138.2 MB  | #####3     |  54% \n",
      "pytorch-1.13.0       | 138.2 MB  | #####6     |  57% \n",
      "pytorch-1.13.0       | 138.2 MB  | #####9     |  60% \n",
      "pytorch-1.13.0       | 138.2 MB  | ######2    |  63% \n",
      "pytorch-1.13.0       | 138.2 MB  | ######6    |  66% \n",
      "pytorch-1.13.0       | 138.2 MB  | ######9    |  69% \n",
      "pytorch-1.13.0       | 138.2 MB  | #######2   |  72% \n",
      "pytorch-1.13.0       | 138.2 MB  | #######5   |  75% \n",
      "pytorch-1.13.0       | 138.2 MB  | #######7   |  78% \n",
      "pytorch-1.13.0       | 138.2 MB  | ########1  |  81% \n",
      "pytorch-1.13.0       | 138.2 MB  | ########3  |  84% \n",
      "pytorch-1.13.0       | 138.2 MB  | ########6  |  87% \n",
      "pytorch-1.13.0       | 138.2 MB  | ########9  |  90% \n",
      "pytorch-1.13.0       | 138.2 MB  | #########2 |  93% \n",
      "pytorch-1.13.0       | 138.2 MB  | #########5 |  96% \n",
      "pytorch-1.13.0       | 138.2 MB  | #########8 |  99% \n",
      "pytorch-1.13.0       | 138.2 MB  | ########## | 100% \n",
      "\n",
      "conda-22.9.0         | 985 KB    |            |   0% \n",
      "conda-22.9.0         | 985 KB    | ########## | 100% \n",
      "conda-22.9.0         | 985 KB    | ########## | 100% \n",
      "\n",
      "libuv-1.44.2         | 362 KB    |            |   0% \n",
      "libuv-1.44.2         | 362 KB    | ########## | 100% \n",
      "libuv-1.44.2         | 362 KB    | ########## | 100% \n",
      "\n",
      "torchaudio-0.13.0    | 4.5 MB    |            |   0% \n",
      "torchaudio-0.13.0    | 4.5 MB    | #####2     |  52% \n",
      "torchaudio-0.13.0    | 4.5 MB    | ########## | 100% \n",
      "\n",
      "pytorch-mutex-1.0    | 3 KB      |            |   0% \n",
      "pytorch-mutex-1.0    | 3 KB      | ########## | 100% \n",
      "\n",
      "torchvision-0.14.0   | 6.3 MB    |            |   0% \n",
      "torchvision-0.14.0   | 6.3 MB    | ###1       |  31% \n",
      "torchvision-0.14.0   | 6.3 MB    | ########3  |  83% \n",
      "torchvision-0.14.0   | 6.3 MB    | ########## | 100% \n",
      "Preparing transaction: ...working... done\n",
      "Verifying transaction: ...working... done\n",
      "Executing transaction: ...working... done\n",
      "Retrieving notices: ...working... done\n"
     ]
    }
   ],
   "source": [
    "# for conda users\n",
    "!conda install -y matplotlib pandas pytorch torchvision torchaudio -c pytorch -c conda-forge"
   ]
  },
  {
   "cell_type": "markdown",
   "metadata": {
    "id": "Othm3C2lLAsj"
   },
   "source": [
    "## Wprowadzenie\n",
    "\n",
    "Zanim zaczniemy naszą przygodę z sieciami neuronowymi, przyjrzyjmy się prostemu przykładowi regresji liniowej na syntetycznych danych:"
   ]
  },
  {
   "cell_type": "code",
   "execution_count": 1,
   "metadata": {
    "id": "rnJsfxbnLAsj"
   },
   "outputs": [],
   "source": [
    "from typing import Tuple, Dict\n",
    "\n",
    "import numpy as np\n",
    "import matplotlib.pyplot as plt"
   ]
  },
  {
   "cell_type": "code",
   "execution_count": 2,
   "metadata": {
    "colab": {
     "base_uri": "https://localhost:8080/",
     "height": 282
    },
    "id": "EaYpEXzBLAsl",
    "outputId": "2f8d2922-72f0-4d38-8548-d1262adf522e"
   },
   "outputs": [
    {
     "data": {
      "text/plain": [
       "<matplotlib.collections.PathCollection at 0x16df0e40160>"
      ]
     },
     "execution_count": 2,
     "metadata": {},
     "output_type": "execute_result"
    },
    {
     "data": {
      "image/png": "[encoded data removed]",
      "text/plain": [
       "<Figure size 432x288 with 1 Axes>"
      ]
     },
     "metadata": {
      "needs_background": "light"
     },
     "output_type": "display_data"
    }
   ],
   "source": [
    "np.random.seed(0)\n",
    "\n",
    "x = np.linspace(0, 1, 100)\n",
    "y = x + np.random.normal(scale=0.1, size=x.shape)\n",
    "\n",
    "plt.scatter(x, y)"
   ]
  },
  {
   "cell_type": "markdown",
   "metadata": {
    "id": "PEM_-yKELAsl"
   },
   "source": [
    "W przeciwieństwie do laboratorium 1, tym razem będziemy chcieli rozwiązać ten problem własnoręcznie, bez użycia wysokopoziomowego interfejsu Scikit-learn'a. W tym celu musimy sobie przypomnieć sformułowanie naszego **problemu optymalizacyjnego (optimization problem)**.\n",
    "\n",
    "W przypadku prostej regresji liniowej (1 zmienna) mamy model postaci $\\hat{y} = \\alpha x + \\beta$, z dwoma parametrami, których będziemy się uczyć. Miarą niedopasowania modelu o danych parametrach jest **funkcja kosztu (cost function)**, nazywana też funkcją celu. Najczęściej używa się **błędu średniokwadratowego (mean squared error, MSE)**:\n",
    "$$\\large\n",
    "MSE = \\frac{1}{N} \\sum_{i}^{N} (y - \\hat{y})^2\n",
    "$$\n",
    "\n",
    "Od jakich $\\alpha$ i $\\beta$ zacząć? W najprostszym wypadku wystarczy po prostu je wylosować jako niewielkie liczby zmiennoprzecinkowe.\n",
    "\n",
    "#### Zadanie 1 (0.5 punkt)\n",
    "\n",
    "Uzupełnij kod funkcji `mse`, obliczającej błąd średniokwadratowy. Wykorzystaj Numpy'a w celu wektoryzacji obliczeń dla wydajności."
   ]
  },
  {
   "cell_type": "code",
   "execution_count": 3,
   "metadata": {
    "colab": {
     "base_uri": "https://localhost:8080/"
    },
    "id": "RaA7Q46TLAsm",
    "outputId": "5c57fe58-1934-4d21-9a7b-d14e9a23140b"
   },
   "outputs": [],
   "source": [
    "def mse(y: np.ndarray, y_hat: np.ndarray) -> float:\n",
    "    return np.square(np.subtract(y, y_hat)).mean()\n",
    "    # raise NotImplementedError"
   ]
  },
  {
   "cell_type": "code",
   "execution_count": 4,
   "metadata": {
    "colab": {
     "base_uri": "https://localhost:8080/",
     "height": 282
    },
    "id": "qSGfamGbLAsm",
    "outputId": "733ce15f-ae75-466b-e7ee-eb3c9d9d534c"
   },
   "outputs": [
    {
     "name": "stdout",
     "output_type": "stream",
     "text": [
      "MSE: 0.133\n"
     ]
    },
    {
     "data": {
      "text/plain": [
       "[<matplotlib.lines.Line2D at 0x16df0f45eb0>]"
      ]
     },
     "execution_count": 4,
     "metadata": {},
     "output_type": "execute_result"
    },
    {
     "data": {
      "image/png": "[encoded data removed]",
      "text/plain": [
       "<Figure size 432x288 with 1 Axes>"
      ]
     },
     "metadata": {
      "needs_background": "light"
     },
     "output_type": "display_data"
    }
   ],
   "source": [
    "a = np.random.rand()\n",
    "b = np.random.rand()\n",
    "print(f\"MSE: {mse(y, a * x + b):.3f}\")\n",
    "\n",
    "plt.scatter(x, y)\n",
    "plt.plot(x, a * x + b, color=\"g\", linewidth=4)"
   ]
  },
  {
   "cell_type": "markdown",
   "metadata": {
    "id": "Y--E9Mp9LAsn"
   },
   "source": [
    "Losowe parametry radzą sobie nie najlepiej. Jak lepiej dopasować naszą prostą do danych? Zawsze możemy starać się wyprowadzić rozwiązanie analitycznie, i w tym wypadku nawet nam się uda. Jest to jednak szczególny i dość rzadki przypadek, a w szczególności nie będzie to możliwe w większych sieciach neuronowych.\n",
    "\n",
    "Potrzebna nam będzie **metoda optymalizacji (optimization method)**, dającą wartości parametrów minimalizujące dowolną różniczkowalną funkcję kosztu. Zdecydowanie najpopularniejszy jest tutaj **spadek wzdłuż gradientu (gradient descent)**.\n",
    "\n",
    "Metoda ta wywodzi się z prostych obserwacji, które tutaj przedstawimy. Bardziej szczegółowe rozwinięcie dla zainteresowanych: [sekcja 4.3 \"Deep Learning Book\"](https://www.deeplearningbook.org/contents/numerical.html), [ten praktyczny kurs](https://cs231n.github.io/optimization-1/), [analiza oryginalnej publikacji Cauchy'ego](https://www.math.uni-bielefeld.de/documenta/vol-ismp/40_lemarechal-claude.pdf) (oryginał w języku francuskim).\n",
    "\n",
    "Pochodna jest dokładnie równa granicy funkcji. Dla małego $\\epsilon$ można ją przybliżyć jako:\n",
    "$$\\large\n",
    "\\frac{f(x)}{dx} \\approx \\frac{f(x) - f(x+\\epsilon)}{\\epsilon}\n",
    "$$\n",
    "\n",
    "Przyglądając się temu równaniu widzimy, że: \n",
    "* dla funkcji rosnącej ($f(x+\\epsilon) > f(x)$) wyrażenie $\\frac{f(x)}{dx}$ będzie miało znak ujemny \n",
    "* dla funkcji malejącej ($f(x+\\epsilon) < f(x)$) wyrażenie $\\frac{f(x)}{dx}$ będzie miało znak dodatni \n",
    "\n",
    "Widzimy więc, że potrafimy wskazać kierunek zmniejszenia wartości funkcji, patrząc na znak pochodnej. Zaobserwowano także, że amplituda wartości w $\\frac{f(x)}{dx}$ jest tym większa, im dalej jesteśmy od minimum (maximum). Pochodna wyznacza więc, w jakim kierunku funkcja najszybciej rośnie, więc kierunek o przeciwnym zwrocie to kierunek, w którym funkcja najszybciej spada.\n",
    "\n",
    "Stosując powyższe do optymalizacji, mamy:\n",
    "$$\\large\n",
    "x_{t+1} = x_{t} -  \\alpha * \\frac{f(x)}{dx}\n",
    "$$\n",
    "\n",
    "$\\alpha$ to niewielka wartość (rzędu zwykle $10^{-5}$ - $10^{-2}$), wprowadzona, aby trzymać się założenia o małej zmianie parametrów ($\\epsilon$). Nazywa się ją **stałą uczącą (learning rate)** i jest zwykle najważniejszym hiperparametrem podczas nauki sieci.\n",
    "\n",
    "Metoda ta zakłada, że używamy całego zbioru danych do aktualizacji parametrów w każdym kroku, co nazywa się po prostu GD (od *gradient descent*) albo *full batch GD*. Wtedy każdy krok optymalizacji nazywa się **epoką (epoch)**.\n",
    "\n",
    "Im większa stała ucząca, tym większe nasze kroki podczas minimalizacji. Możemy więc uczyć szybciej, ale istnieje ryzyko, że będziemy \"przeskakiwać\" minima. Mniejsza stała ucząca to wolniejszy trening, ale dokładniejszy. Można także zmieniać ją podczas treningu, co nazywa się **learning rate scheduling (LR scheduling)**. Obrazowo:\n",
    "\n",
    "![learning_rate](http://www.bdhammel.com/assets/learning-rate/lr-types.png)"
   ]
  },
  {
   "cell_type": "markdown",
   "metadata": {
    "id": "496qEjkVLAso"
   },
   "source": [
    "![interactive LR](http://cdn-images-1.medium.com/max/640/1*eeIvlwkMNG1wSmj3FR6M2g.gif)"
   ]
  },
  {
   "cell_type": "markdown",
   "metadata": {
    "id": "RYkyAHKzLAsp"
   },
   "source": [
    "Policzmy więc pochodną dla naszej funkcji kosztu MSE. Pochodną liczymy po predykcjach naszego modelu, czyli de facto po jego parametrach, bo to od nich zależą predykcje.\n",
    "$$\\large\n",
    "\\frac{\\text{d} MSE}{\\text{d} \\hat{y}} = -2 \\cdot \\frac{1}{N} \\sum_{i=1}^{N} (y_i - \\hat{y}_i) = -2 \\cdot \\frac{1}{N} \\sum_{i=1}^{N} (y_i - (ax + b))\n",
    "$$\n",
    "\n",
    "Musimy jeszcze się dowiedzieć, jak zaktualizować każdy z naszych parametrów. Możemy wykorzystać tutaj regułę łańcuchową (*chain rule*) i policzyć ponownie pochodną, tylko że po naszych parametrach. Dzięki temu dostajemy informację, jak każdy z parametrów wpływa na funkcję kosztu i jak zmodyfikować każdy z nich w kolejnym kroku.\n",
    "$$\\large\n",
    "\\frac{\\text{d} \\hat{y}}{\\text{d} a} = x\n",
    "$$\n",
    "\n",
    "$$\\large\n",
    "\\frac{\\text{d} \\hat{y}}{\\text{d} b} = 1\n",
    "$$\n",
    "\n",
    "Pełna aktualizacja to zatem:\n",
    "$$\\large\n",
    "a' = a + \\alpha * \\left( \\frac{-2}{N} \\sum_{i=1}^N (y_i - \\hat{y}_i) * (-x) \\right)\n",
    "$$\n",
    "$$\\large\n",
    "b' = b + \\alpha * \\left( \\frac{-2}{N} \\sum_{i=1}^N (y_i - \\hat{y}_i) * (-1) \\right)\n",
    "$$\n",
    "\n",
    "Liczymy więc pochodną funkcji kosztu, a potem za pomocą reguły łańcuchowej \"cofamy się\", dochodząc do tego, jak każdy z parametrów wpływa na błąd i w jaki sposób powinniśmy go zmienić. Nazywa się to **propagacją wsteczną (backpropagation)** i jest podstawowym mechanizmem umożliwiającym naukę sieci neuronowych za pomocą spadku wzdłuż gradientu. Więcej możesz o tym przeczytać [tutaj](https://cs231n.github.io/optimization-2/).\n",
    "\n",
    "Obliczenie pochodnych cząstkowych ze względu na każdy \n",
    "\n",
    "\n",
    "#### Zadanie 2 (1.5 punkty)\n",
    "\n",
    "Zaimplementuj funkcję realizującą jedną epokę treningową. Oblicz predykcję przy aktualnych parametrach oraz zaktualizuj je zgodnie z powyższymi wzorami."
   ]
  },
  {
   "cell_type": "code",
   "execution_count": 5,
   "metadata": {
    "colab": {
     "base_uri": "https://localhost:8080/"
    },
    "id": "4qbdWOSULAsp",
    "outputId": "055607ae-87aa-470a-e6da-25682c82d470"
   },
   "outputs": [],
   "source": [
    "def optimize(\n",
    "    x: np.ndarray, y: np.ndarray, a: float, b: float, learning_rate: float = 0.1\n",
    "):\n",
    "    y_hat = a * x + b\n",
    "    errors = y - y_hat\n",
    "    # implement me!\n",
    "    # raise NotImplementedError\n",
    "    new_a = a + learning_rate * -2 * (errors * (-x)).mean()\n",
    "    new_b = b + learning_rate * -2 * (errors * (-1)).mean()\n",
    "\n",
    "    return new_a, new_b"
   ]
  },
  {
   "cell_type": "code",
   "execution_count": 84,
   "metadata": {},
   "outputs": [
    {
     "name": "stdout",
     "output_type": "stream",
     "text": [
      "step 0 loss:  0.1330225119404028\n",
      "step 100 loss:  0.012673197778527677\n",
      "step 200 loss:  0.010257153540857817\n",
      "step 300 loss:  0.0100948037549359\n",
      "step 400 loss:  0.010083894412889118\n",
      "step 500 loss:  0.010083161342973332\n",
      "step 600 loss:  0.010083112083219709\n",
      "step 700 loss:  0.010083108773135261\n",
      "step 800 loss:  0.010083108550709076\n",
      "step 900 loss:  0.01008310853576281\n",
      "final loss: 0.010083108534760455\n"
     ]
    }
   ],
   "source": [
    "for i in range(1000):\n",
    "    loss = mse(y, a * x + b)\n",
    "    a, b = optimize(x, y, a, b)\n",
    "    if i % 100 == 0:\n",
    "        print(f\"step {i} loss: \", loss)\n",
    "\n",
    "print(\"final loss:\", loss)"
   ]
  },
  {
   "cell_type": "code",
   "execution_count": 6,
   "metadata": {
    "colab": {
     "base_uri": "https://localhost:8080/",
     "height": 282
    },
    "id": "xOgRcPC1LAsq",
    "outputId": "85b0b3e4-aa0d-467a-d8ff-5f01be17b243",
    "scrolled": false
   },
   "outputs": [
    {
     "data": {
      "text/plain": [
       "[<matplotlib.lines.Line2D at 0x16df0fbbfa0>]"
      ]
     },
     "execution_count": 6,
     "metadata": {},
     "output_type": "execute_result"
    },
    {
     "data": {
      "image/png": "[encoded data removed]",
      "text/plain": [
       "<Figure size 432x288 with 1 Axes>"
      ]
     },
     "metadata": {
      "needs_background": "light"
     },
     "output_type": "display_data"
    }
   ],
   "source": [
    "plt.scatter(x, y)\n",
    "plt.plot(x, a * x + b, color=\"g\", linewidth=4)"
   ]
  },
  {
   "cell_type": "markdown",
   "metadata": {
    "id": "vOr2fWYpLAsq"
   },
   "source": [
    "Udało ci się wytrenować swoją pierwszą sieć neuronową. Czemu? Otóż neuron to po prostu wektor parametrów, a zwykle robimy iloczyn skalarny tych parametrów z wejściem. Dodatkowo na wyjście nakłada się **funkcję aktywacji (activation function)**, która przekształca wyjście. Tutaj takiej nie było, a właściwie była to po prostu funkcja identyczności.\n",
    "\n",
    "Oczywiście w praktyce korzystamy z odpowiedniego frameworka, który w szczególności:\n",
    "- ułatwia budowanie sieci, np. ma gotowe klasy dla warstw neuronów\n",
    "- ma zaimplementowane funkcje kosztu oraz ich pochodne\n",
    "- sam różniczkuje ze względu na odpowiednie parametry i aktualizuje je odpowiednio podczas treningu\n"
   ]
  },
  {
   "cell_type": "markdown",
   "metadata": {
    "id": "NJBYJabuLAsr"
   },
   "source": [
    "## Wprowadzenie do PyTorcha"
   ]
  },
  {
   "cell_type": "markdown",
   "metadata": {
    "id": "EB-99XqhLAsr"
   },
   "source": [
    "PyTorch to w gruncie rzeczy narzędzie do algebry liniowej z [automatycznym rożniczkowaniem](https://pytorch.org/tutorials/beginner/blitz/autograd_tutorial.html), z możliwością przyspieszenia obliczeń z pomocą GPU. Na tych fundamentach zbudowany jest pełny framework do uczenia głębokiego. Można spotkać się ze stwierdzenie, że PyTorch to NumPy + GPU + opcjonalne różniczkowanie, co jest całkiem celne. Plus można łatwo debugować printem :)\n",
    "\n",
    "PyTorch używa dynamicznego grafu obliczeń, który sami definiujemy w kodzie. Takie podejście jest bardzo wygodne, elastyczne i pozwala na łatwe eksperymentowanie. Odbywa się to potencjalnie kosztem wydajności, ponieważ pozostawia kwestię optymalizacji programiście. Więcej na ten temat dla zainteresowanych na końcu laboratorium.\n",
    "\n",
    "Samo API PyTorcha bardzo przypomina Numpy'a, a podstawowym obiektem jest `Tensor`, klasa reprezentująca tensory dowolnego wymiaru. Dodatkowo niektóre tensory będą miały automatycznie obliczony gradient. Co ważne, tensor jest na pewnym urządzeniu, CPU lub GPU, a przenosić między nimi trzeba explicite.\n",
    "\n",
    "Najważniejsze moduły:\n",
    "- `torch` - podstawowe klasy oraz funkcje, np. `Tensor`, `from_numpy()`\n",
    "- `torch.nn` - klasy związane z sieciami neuronowymi, np. `Linear`, `Sigmoid`\n",
    "- `torch.optim` - wszystko związane z optymalizacją, głównie spadkiem wzdłuż gradientu"
   ]
  },
  {
   "cell_type": "code",
   "execution_count": 86,
   "metadata": {
    "id": "FwuIt8S-LAss"
   },
   "outputs": [],
   "source": [
    "import torch\n",
    "import torch.nn as nn\n",
    "import torch.optim as optim"
   ]
  },
  {
   "cell_type": "code",
   "execution_count": 87,
   "metadata": {
    "colab": {
     "base_uri": "https://localhost:8080/"
    },
    "id": "bfCiUFXULAss",
    "outputId": "83f6231d-ecc4-461a-b758-fdc4bc2a88a4"
   },
   "outputs": [
    {
     "name": "stdout",
     "output_type": "stream",
     "text": [
      "tensor([1.0261, 1.0926, 1.3451, 1.5417, 1.3415, 1.4749, 1.7691, 1.5499, 1.5773,\n",
      "        1.0265])\n",
      "tensor([0.0261, 0.0926, 0.3451, 0.5417, 0.3415, 0.4749, 0.7691, 0.5499, 0.5773,\n",
      "        0.0265])\n",
      "tensor(3.7447)\n"
     ]
    }
   ],
   "source": [
    "ones = torch.ones(10)\n",
    "noise = torch.ones(10) * torch.rand(10)\n",
    "\n",
    "# elementwise sum\n",
    "print(ones + noise)\n",
    "\n",
    "# elementwise multiplication\n",
    "print(ones * noise)\n",
    "\n",
    "# dot product\n",
    "print(ones @ noise)"
   ]
  },
  {
   "cell_type": "code",
   "execution_count": 88,
   "metadata": {
    "id": "ynNd_kD0LAst"
   },
   "outputs": [],
   "source": [
    "# beware - shares memory with original Numpy array!\n",
    "# very fast, but modifications are visible to original variable\n",
    "x = torch.from_numpy(np.asarray(x))\n",
    "y = torch.from_numpy(np.asarray(y))"
   ]
  },
  {
   "cell_type": "markdown",
   "metadata": {
    "id": "W9kkxczELAsu"
   },
   "source": [
    "Jeżeli dla stworzonych przez nas tensorów chcemy śledzić operacje i obliczać gradient, to musimy oznaczyć `requires_grad=True`."
   ]
  },
  {
   "cell_type": "code",
   "execution_count": 89,
   "metadata": {
    "colab": {
     "base_uri": "https://localhost:8080/"
    },
    "id": "8HtZL-KfLAsu",
    "outputId": "47c6d930-5678-452a-95bc-227935138b40"
   },
   "outputs": [
    {
     "data": {
      "text/plain": [
       "(tensor([0.6813], requires_grad=True), tensor([0.2913], requires_grad=True))"
      ]
     },
     "execution_count": 89,
     "metadata": {},
     "output_type": "execute_result"
    }
   ],
   "source": [
    "a = torch.rand(1, requires_grad=True)\n",
    "b = torch.rand(1, requires_grad=True)\n",
    "a, b"
   ]
  },
  {
   "cell_type": "markdown",
   "metadata": {
    "id": "Nl1guWZ_LAsv"
   },
   "source": [
    "PyTorch zawiera większość powszechnie używanych funkcji kosztu, np. MSE. Mogą być one używane na 2 sposoby, z czego pierwszy jest popularniejszy:\n",
    "- jako klasy wywoływalne z modułu `torch.nn`\n",
    "- jako funkcje z modułu `torch.nn.functional`\n",
    "\n",
    "Po wykonaniu poniższego kodu widzimy, że zwraca on nam tensor z dodatkowymi atrybutami. Co ważne, jest to skalar (0-wymiarowy tensor), bo potrzebujemy zwyczajnej liczby do obliczania propagacji wstecznych (pochodnych czątkowych)."
   ]
  },
  {
   "cell_type": "code",
   "execution_count": 90,
   "metadata": {},
   "outputs": [
    {
     "data": {
      "text/plain": [
       "tensor(0.0330, dtype=torch.float64, grad_fn=<MseLossBackward0>)"
      ]
     },
     "execution_count": 90,
     "metadata": {},
     "output_type": "execute_result"
    }
   ],
   "source": [
    "mse = nn.MSELoss()\n",
    "mse(y, a * x + b)"
   ]
  },
  {
   "cell_type": "markdown",
   "metadata": {
    "id": "vS35r49nLAsw"
   },
   "source": [
    "Atrybutu `grad_fn` nie używamy wprost, bo korzysta z niego w środku PyTorch, ale widać, że tensor jest \"świadomy\", że liczy się na nim pochodną. Możemy natomiast skorzystać z atrybutu `grad`, który zawiera faktyczny gradient. Zanim go jednak dostaniemy, to trzeba powiedzieć PyTorchowi, żeby policzył gradient. Służy do tego metoda `.backward()`, wywoływana na obiekcie zwracanym przez funkcję kosztu."
   ]
  },
  {
   "cell_type": "code",
   "execution_count": 91,
   "metadata": {
    "id": "Qb7l6Xg1LAsx"
   },
   "outputs": [],
   "source": [
    "loss = mse(y, a * x + b)\n",
    "loss.backward()"
   ]
  },
  {
   "cell_type": "code",
   "execution_count": 92,
   "metadata": {
    "colab": {
     "base_uri": "https://localhost:8080/"
    },
    "id": "6LfQbLVoLAsx",
    "outputId": "d5b87fb7-d284-423c-f467-b677384b2f67"
   },
   "outputs": [
    {
     "name": "stdout",
     "output_type": "stream",
     "text": [
      "tensor([0.0768])\n"
     ]
    }
   ],
   "source": [
    "print(a.grad)"
   ]
  },
  {
   "cell_type": "markdown",
   "metadata": {
    "id": "Kdf1iweELAsy"
   },
   "source": [
    "Ważne jest, że PyTorch nie liczy za każdym razem nowego gradientu, tylko dodaje go do istniejącego, czyli go akumuluje. Jest to przydatne w niektórych sieciach neuronowych, ale zazwyczaj trzeba go zerować. Jeżeli tego nie zrobimy, to dostaniemy coraz większe gradienty.\n",
    "\n",
    "Do zerowania służy metoda `.zero_()`. W PyTorchu wszystkie metody modyfikujące tensor w miejscu mają `_` na końcu nazwy. Jest to dość niskopoziomowa operacja dla pojedynczych tensorów - zobaczymy za chwilę, jak to robić łatwiej dla całej sieci."
   ]
  },
  {
   "cell_type": "code",
   "execution_count": 93,
   "metadata": {
    "colab": {
     "base_uri": "https://localhost:8080/"
    },
    "id": "DiCQZKJsLAsy",
    "outputId": "2f779622-480d-43fc-b9d0-a0e36ff4b28b"
   },
   "outputs": [
    {
     "data": {
      "text/plain": [
       "tensor([0.1536])"
      ]
     },
     "execution_count": 93,
     "metadata": {},
     "output_type": "execute_result"
    }
   ],
   "source": [
    "loss = mse(y, a * x + b)\n",
    "loss.backward()\n",
    "a.grad"
   ]
  },
  {
   "cell_type": "markdown",
   "metadata": {
    "id": "xNC3Ag8uLAsz"
   },
   "source": [
    "Zobaczmy, jak wyglądałaby regresja liniowa, ale napisana w PyTorchu. Jest to oczywiście bardzo niskopoziomowa implementacja - za chwilę zobaczymy, jak to wygląda w praktyce."
   ]
  },
  {
   "cell_type": "code",
   "execution_count": 94,
   "metadata": {
    "colab": {
     "base_uri": "https://localhost:8080/"
    },
    "id": "AKnxyeboLAsz",
    "outputId": "2f939474-901a-4773-9704-686a40ae6e8e"
   },
   "outputs": [
    {
     "name": "stdout",
     "output_type": "stream",
     "text": [
      "step 0 loss:  tensor(0.0330, dtype=torch.float64, grad_fn=<MseLossBackward0>)\n",
      "step 100 loss:  tensor(0.0107, dtype=torch.float64, grad_fn=<MseLossBackward0>)\n",
      "step 200 loss:  tensor(0.0101, dtype=torch.float64, grad_fn=<MseLossBackward0>)\n",
      "step 300 loss:  tensor(0.0101, dtype=torch.float64, grad_fn=<MseLossBackward0>)\n",
      "step 400 loss:  tensor(0.0101, dtype=torch.float64, grad_fn=<MseLossBackward0>)\n",
      "step 500 loss:  tensor(0.0101, dtype=torch.float64, grad_fn=<MseLossBackward0>)\n",
      "step 600 loss:  tensor(0.0101, dtype=torch.float64, grad_fn=<MseLossBackward0>)\n",
      "step 700 loss:  tensor(0.0101, dtype=torch.float64, grad_fn=<MseLossBackward0>)\n",
      "step 800 loss:  tensor(0.0101, dtype=torch.float64, grad_fn=<MseLossBackward0>)\n",
      "step 900 loss:  tensor(0.0101, dtype=torch.float64, grad_fn=<MseLossBackward0>)\n",
      "final loss: tensor(0.0101, dtype=torch.float64, grad_fn=<MseLossBackward0>)\n"
     ]
    }
   ],
   "source": [
    "learning_rate = 0.1\n",
    "for i in range(1000):\n",
    "    loss = mse(y, a * x + b)\n",
    "\n",
    "    # compute gradients\n",
    "    loss.backward()\n",
    "\n",
    "    # update parameters\n",
    "    a.data -= learning_rate * a.grad\n",
    "    b.data -= learning_rate * b.grad\n",
    "\n",
    "    # zero gradients\n",
    "    a.grad.data.zero_()\n",
    "    b.grad.data.zero_()\n",
    "\n",
    "    if i % 100 == 0:\n",
    "        print(f\"step {i} loss: \", loss)\n",
    "\n",
    "print(\"final loss:\", loss)"
   ]
  },
  {
   "cell_type": "markdown",
   "metadata": {
    "id": "2DXNVhshmmI-"
   },
   "source": [
    "Trening modeli w PyTorchu jest dosyć schematyczny i najczęściej rozdziela się go na kilka bloków, dających razem **pętlę uczącą (training loop)**, powtarzaną w każdej epoce:\n",
    "1. Forward pass - obliczenie predykcji sieci\n",
    "2. Loss calculation\n",
    "3. Backpropagation - obliczenie pochodnych oraz zerowanie gradientów\n",
    "4. Optimalization - aktualizacja wag\n",
    "5. Other - ewaluacja na zbiorze walidacyjnym, logging etc."
   ]
  },
  {
   "cell_type": "code",
   "execution_count": 95,
   "metadata": {
    "colab": {
     "base_uri": "https://localhost:8080/"
    },
    "id": "2etpw7TNLAs0",
    "outputId": "8ac35c12-6c70-41ec-bf57-414456fc3c96",
    "scrolled": true
   },
   "outputs": [
    {
     "name": "stdout",
     "output_type": "stream",
     "text": [
      "step 0 loss: 0.0562\n",
      "step 100 loss: 0.0103\n",
      "step 200 loss: 0.0101\n",
      "step 300 loss: 0.0101\n",
      "step 400 loss: 0.0101\n",
      "step 500 loss: 0.0101\n",
      "step 600 loss: 0.0101\n",
      "step 700 loss: 0.0101\n",
      "step 800 loss: 0.0101\n",
      "step 900 loss: 0.0101\n",
      "final loss: tensor(0.0101, dtype=torch.float64, grad_fn=<MseLossBackward0>)\n"
     ]
    }
   ],
   "source": [
    "# initialization\n",
    "learning_rate = 0.1\n",
    "a = torch.rand(1, requires_grad=True)\n",
    "b = torch.rand(1, requires_grad=True)\n",
    "optimizer = torch.optim.SGD([a, b], lr=learning_rate)\n",
    "best_loss = float(\"inf\")\n",
    "\n",
    "# training loop in each epoch\n",
    "for i in range(1000):\n",
    "    # forward pass\n",
    "    y_hat = a * x + b\n",
    "\n",
    "    # loss calculation\n",
    "    loss = mse(y, y_hat)\n",
    "\n",
    "    # backpropagation\n",
    "    loss.backward()\n",
    "\n",
    "    # optimization\n",
    "    optimizer.step()\n",
    "    optimizer.zero_grad()  # zeroes all gradients - very convenient!\n",
    "\n",
    "    if i % 100 == 0:\n",
    "        if loss < best_loss:\n",
    "            best_model = (a.clone(), b.clone())\n",
    "            best_loss = loss\n",
    "        print(f\"step {i} loss: {loss.item():.4f}\")\n",
    "\n",
    "print(\"final loss:\", loss)"
   ]
  },
  {
   "cell_type": "markdown",
   "metadata": {},
   "source": [
    "Przejdziemy teraz do budowy sieci neuronowej do klasyfikacji. Typowo implementuje się ją po prostu jako sieć dla regresji, ale zwracającą tyle wyników, ile mamy klas, a potem aplikuje się na tym funkcję sigmoidalną (2 klasy) lub softmax (>2 klasy). W przypadku klasyfikacji binarnej zwraca się czasem tylko 1 wartość, przepuszczaną przez sigmoidę - wtedy wyjście z sieci to prawdopodobieństwo klasy pozytywnej.\n",
    "\n",
    "Funkcją kosztu zwykle jest **entropia krzyżowa (cross-entropy)**, stosowana też w klasycznej regresji logistycznej. Co ważne, sieci neuronowe, nawet tak proste, uczą się szybciej i stabilniej, gdy dane na wejściu (a przynajmniej zmienne numeryczne) są **ustandaryzowane (standardized)**. Operacja ta polega na odjęciu średniej i podzieleniu przez odchylenie standardowe (tzw. *Z-score transformation*).\n",
    "\n",
    "**Uwaga - PyTorch wymaga tensora klas będącego liczbami zmiennoprzecinkowymi!**"
   ]
  },
  {
   "cell_type": "markdown",
   "metadata": {},
   "source": [
    "## Zbiór danych"
   ]
  },
  {
   "cell_type": "markdown",
   "metadata": {},
   "source": [
    "Na tym laboratorium wykorzystamy zbiór [Adult Census](https://archive.ics.uci.edu/ml/datasets/adult). Dotyczy on przewidywania na podstawie danych demograficznych, czy dany człowiek zarabia powyżej 50 tysięcy dolarów miesięcznie, czy też mniej. Jest to cenna informacja np. przy planowaniu kampanii marketingowych. Jak możesz się domyślić, zbiór pochodzi z czasów, kiedy inflacja była dużo niższa :)\n",
    "\n",
    "Poniżej znajduje się kod do ściągnięcia i preprocessingu zbioru. Nie musisz go dokładnie analizować."
   ]
  },
  {
   "cell_type": "code",
   "execution_count": 54,
   "metadata": {
    "colab": {
     "base_uri": "https://localhost:8080/"
    },
    "id": "4DNsaZAnLAs0",
    "outputId": "70822008-530d-4173-deb9-8149a9fe5b41",
    "scrolled": true
   },
   "outputs": [
    {
     "name": "stderr",
     "output_type": "stream",
     "text": [
      "--2022-12-03 18:38:13--  https://archive.ics.uci.edu/ml/machine-learning-databases/adult/adult.data\n",
      "Resolving archive.ics.uci.edu (archive.ics.uci.edu)... 128.195.10.252\n",
      "Connecting to archive.ics.uci.edu (archive.ics.uci.edu)|128.195.10.252|:443... connected.\n",
      "HTTP request sent, awaiting response... 200 OK\n",
      "Length: 3974305 (3,8M) [application/x-httpd-php]\n",
      "Saving to: 'adult.data'\n",
      "\n",
      "     0K .......... .......... .......... .......... ..........  1%  312K 12s\n",
      "    50K .......... .......... .......... .......... ..........  2%  303K 12s\n",
      "   100K .......... .......... .......... .......... ..........  3% 11,2M 8s\n",
      "   150K .......... .......... .......... .......... ..........  5% 1,09M 7s\n",
      "   200K .......... .......... .......... .......... ..........  6%  413K 7s\n",
      "   250K .......... .......... .......... .......... ..........  7% 1,14M 6s\n",
      "   300K .......... .......... .......... .......... ..........  9% 9,60M 5s\n",
      "   350K .......... .......... .......... .......... .......... 10% 14,1M 5s\n",
      "   400K .......... .......... .......... .......... .......... 11%  446K 5s\n",
      "   450K .......... .......... .......... .......... .......... 12% 10,3M 4s\n",
      "   500K .......... .......... .......... .......... .......... 14% 23,6M 4s\n",
      "   550K .......... .......... .......... .......... .......... 15% 1,22M 4s\n",
      "   600K .......... .......... .......... .......... .......... 16% 12,9M 4s\n",
      "   650K .......... .......... .......... .......... .......... 18% 17,7M 3s\n",
      "   700K .......... .......... .......... .......... .......... 19% 27,1M 3s\n",
      "   750K .......... .......... .......... .......... .......... 20% 19,7M 3s\n",
      "   800K .......... .......... .......... .......... .......... 21% 36,4M 3s\n",
      "   850K .......... .......... .......... .......... .......... 23%  472K 3s\n",
      "   900K .......... .......... .......... .......... .......... 24% 14,1M 3s\n",
      "   950K .......... .......... .......... .......... .......... 25% 1,19M 3s\n",
      "  1000K .......... .......... .......... .......... .......... 27% 22,7M 2s\n",
      "  1050K .......... .......... .......... .......... .......... 28% 8,58M 2s\n",
      "  1100K .......... .......... .......... .......... .......... 29% 25,4M 2s\n",
      "  1150K .......... .......... .......... .......... .......... 30% 30,9M 2s\n",
      "  1200K .......... .......... .......... .......... .......... 32%  443K 2s\n",
      "  1250K .......... .......... .......... .......... .......... 33% 1,14M 2s\n",
      "  1300K .......... .......... .......... .......... .......... 34% 21,4M 2s\n",
      "  1350K .......... .......... .......... .......... .......... 36% 8,63M 2s\n",
      "  1400K .......... .......... .......... .......... .......... 37% 28,0M 2s\n",
      "  1450K .......... .......... .......... .......... .......... 38% 22,9M 2s\n",
      "  1500K .......... .......... .......... .......... .......... 39%  452K 2s\n",
      "  1550K .......... .......... .......... .......... .......... 41% 13,8M 2s\n",
      "  1600K .......... .......... .......... .......... .......... 42% 28,5M 2s\n",
      "  1650K .......... .......... .......... .......... .......... 43% 35,7M 1s\n",
      "  1700K .......... .......... .......... .......... .......... 45% 30,9M 1s\n",
      "  1750K .......... .......... .......... .......... .......... 46% 36,7M 1s\n",
      "  1800K .......... .......... .......... .......... .......... 47% 1,60M 1s\n",
      "  1850K .......... .......... .......... .......... .......... 48% 19,0M 1s\n",
      "  1900K .......... .......... .......... .......... .......... 50% 24,1M 1s\n",
      "  1950K .......... .......... .......... .......... .......... 51% 66,2M 1s\n",
      "  2000K .......... .......... .......... .......... .......... 52% 12,5M 1s\n",
      "  2050K .......... .......... .......... .......... .......... 54% 9,10M 1s\n",
      "  2100K .......... .......... .......... .......... .......... 55% 82,8M 1s\n",
      "  2150K .......... .......... .......... .......... .......... 56% 26,4M 1s\n",
      "  2200K .......... .......... .......... .......... .......... 57% 63,0M 1s\n",
      "  2250K .......... .......... .......... .......... .......... 59% 72,7M 1s\n",
      "  2300K .......... .......... .......... .......... .......... 60%  444K 1s\n",
      "  2350K .......... .......... .......... .......... .......... 61% 19,4M 1s\n",
      "  2400K .......... .......... .......... .......... .......... 63% 25,9M 1s\n",
      "  2450K .......... .......... .......... .......... .......... 64% 34,8M 1s\n",
      "  2500K .......... .......... .......... .......... .......... 65% 36,7M 1s\n",
      "  2550K .......... .......... .......... .......... .......... 66% 58,0M 1s\n",
      "  2600K .......... .......... .......... .......... .......... 68% 37,1M 1s\n",
      "  2650K .......... .......... .......... .......... .......... 69% 27,6M 1s\n",
      "  2700K .......... .......... .......... .......... .......... 70% 51,5M 1s\n",
      "  2750K .......... .......... .......... .......... .......... 72% 78,7M 1s\n",
      "  2800K .......... .......... .......... .......... .......... 73% 2,38M 0s\n",
      "  2850K .......... .......... .......... .......... .......... 74% 8,91M 0s\n",
      "  2900K .......... .......... .......... .......... .......... 76% 66,4M 0s\n",
      "  2950K .......... .......... .......... .......... .......... 77% 20,0M 0s\n",
      "  3000K .......... .......... .......... .......... .......... 78% 4,69M 0s\n",
      "  3050K .......... .......... .......... .......... .......... 79% 86,0M 0s\n",
      "  3100K .......... .......... .......... .......... .......... 81% 50,8M 0s\n",
      "  3150K .......... .......... .......... .......... .......... 82%  452K 0s\n",
      "  3200K .......... .......... .......... .......... .......... 83% 21,5M 0s\n",
      "  3250K .......... .......... .......... .......... .......... 85% 15,5M 0s\n",
      "  3300K .......... .......... .......... .......... .......... 86% 31,8M 0s\n",
      "  3350K .......... .......... .......... .......... .......... 87% 35,8M 0s\n",
      "  3400K .......... .......... .......... .......... .......... 88% 21,7M 0s\n",
      "  3450K .......... .......... .......... .......... .......... 90% 41,1M 0s\n",
      "  3500K .......... .......... .......... .......... .......... 91% 37,0M 0s\n",
      "  3550K .......... .......... .......... .......... .......... 92%  107M 0s\n",
      "  3600K .......... .......... .......... .......... .......... 94% 93,4M 0s\n",
      "  3650K .......... .......... .......... .......... .......... 95% 2,46M 0s\n",
      "  3700K .......... .......... .......... .......... .......... 96% 11,4M 0s\n",
      "  3750K .......... .......... .......... .......... .......... 97% 24,4M 0s\n",
      "  3800K .......... .......... .......... .......... .......... 99% 4,00M 0s\n",
      "  3850K .......... .......... .......... .                    100% 75,3M=1,5s\n",
      "\n",
      "2022-12-03 18:38:16 (2,45 MB/s) - 'adult.data' saved [3974305/3974305]\n",
      "\n"
     ]
    }
   ],
   "source": [
    "!wget https://archive.ics.uci.edu/ml/machine-learning-databases/adult/adult.data"
   ]
  },
  {
   "cell_type": "code",
   "execution_count": 96,
   "metadata": {},
   "outputs": [
    {
     "data": {
      "text/plain": [
       "array([' <=50K', ' >50K'], dtype=object)"
      ]
     },
     "execution_count": 96,
     "metadata": {},
     "output_type": "execute_result"
    }
   ],
   "source": [
    "import pandas as pd\n",
    "\n",
    "columns = [\n",
    "    \"age\",\n",
    "    \"workclass\",\n",
    "    \"fnlwgt\",\n",
    "    \"education\",\n",
    "    \"education-num\",\n",
    "    \"marital-status\",\n",
    "    \"occupation\",\n",
    "    \"relationship\",\n",
    "    \"race\",\n",
    "    \"sex\",\n",
    "    \"capital-gain\",\n",
    "    \"capital-loss\",\n",
    "    \"hours-per-week\",\n",
    "    \"native-country\",\n",
    "    \"wage\"\n",
    "]\n",
    "\n",
    "\"\"\"\n",
    "age: continuous.\n",
    "workclass: Private, Self-emp-not-inc, Self-emp-inc, Federal-gov, Local-gov, State-gov, Without-pay, Never-worked.\n",
    "fnlwgt: continuous.\n",
    "education: Bachelors, Some-college, 11th, HS-grad, Prof-school, Assoc-acdm, Assoc-voc, 9th, 7th-8th, 12th, Masters, 1st-4th, 10th, Doctorate, 5th-6th, Preschool.\n",
    "education-num: continuous.\n",
    "marital-status: Married-civ-spouse, Divorced, Never-married, Separated, Widowed, Married-spouse-absent, Married-AF-spouse.\n",
    "occupation: Tech-support, Craft-repair, Other-service, Sales, Exec-managerial, Prof-specialty, Handlers-cleaners, Machine-op-inspct, Adm-clerical, Farming-fishing, Transport-moving, Priv-house-serv, Protective-serv, Armed-Forces.\n",
    "relationship: Wife, Own-child, Husband, Not-in-family, Other-relative, Unmarried.\n",
    "race: White, Asian-Pac-Islander, Amer-Indian-Eskimo, Other, Black.\n",
    "sex: Female, Male.\n",
    "capital-gain: continuous.\n",
    "capital-loss: continuous.\n",
    "hours-per-week: continuous.\n",
    "native-country: United-States, Cambodia, England, Puerto-Rico, Canada, Germany, Outlying-US(Guam-USVI-etc), India, Japan, Greece, South, China, Cuba, Iran, Honduras, Philippines, Italy, Poland, Jamaica, Vietnam, Mexico, Portugal, Ireland, France, Dominican-Republic, Laos, Ecuador, Taiwan, Haiti, Columbia, Hungary, Guatemala, Nicaragua, Scotland, Thailand, Yugoslavia, El-Salvador, Trinadad&Tobago, Peru, Hong, Holand-Netherlands.\n",
    "\"\"\"\n",
    "\n",
    "df = pd.read_csv(\"adult.data\", header=None, names=columns)\n",
    "df.wage.unique()"
   ]
  },
  {
   "cell_type": "code",
   "execution_count": 97,
   "metadata": {},
   "outputs": [],
   "source": [
    "# attribution: https://www.kaggle.com/code/royshih23/topic7-classification-in-python\n",
    "df['education'].replace('Preschool', 'dropout',inplace=True)\n",
    "df['education'].replace('10th', 'dropout',inplace=True)\n",
    "df['education'].replace('11th', 'dropout',inplace=True)\n",
    "df['education'].replace('12th', 'dropout',inplace=True)\n",
    "df['education'].replace('1st-4th', 'dropout',inplace=True)\n",
    "df['education'].replace('5th-6th', 'dropout',inplace=True)\n",
    "df['education'].replace('7th-8th', 'dropout',inplace=True)\n",
    "df['education'].replace('9th', 'dropout',inplace=True)\n",
    "df['education'].replace('HS-Grad', 'HighGrad',inplace=True)\n",
    "df['education'].replace('HS-grad', 'HighGrad',inplace=True)\n",
    "df['education'].replace('Some-college', 'CommunityCollege',inplace=True)\n",
    "df['education'].replace('Assoc-acdm', 'CommunityCollege',inplace=True)\n",
    "df['education'].replace('Assoc-voc', 'CommunityCollege',inplace=True)\n",
    "df['education'].replace('Bachelors', 'Bachelors',inplace=True)\n",
    "df['education'].replace('Masters', 'Masters',inplace=True)\n",
    "df['education'].replace('Prof-school', 'Masters',inplace=True)\n",
    "df['education'].replace('Doctorate', 'Doctorate',inplace=True)\n",
    "\n",
    "df['marital-status'].replace('Never-married', 'NotMarried',inplace=True)\n",
    "df['marital-status'].replace(['Married-AF-spouse'], 'Married',inplace=True)\n",
    "df['marital-status'].replace(['Married-civ-spouse'], 'Married',inplace=True)\n",
    "df['marital-status'].replace(['Married-spouse-absent'], 'NotMarried',inplace=True)\n",
    "df['marital-status'].replace(['Separated'], 'Separated',inplace=True)\n",
    "df['marital-status'].replace(['Divorced'], 'Separated',inplace=True)\n",
    "df['marital-status'].replace(['Widowed'], 'Widowed',inplace=True)"
   ]
  },
  {
   "cell_type": "code",
   "execution_count": 98,
   "metadata": {
    "colab": {
     "base_uri": "https://localhost:8080/"
    },
    "id": "LiOxs_6mLAs1",
    "outputId": "c95418cf-2632-41d0-de0a-9caf109de113",
    "scrolled": true
   },
   "outputs": [
    {
     "data": {
      "text/plain": [
       "((20838, 108), (20838,))"
      ]
     },
     "execution_count": 98,
     "metadata": {},
     "output_type": "execute_result"
    }
   ],
   "source": [
    "from sklearn.model_selection import train_test_split\n",
    "from sklearn.preprocessing import MinMaxScaler, OneHotEncoder, StandardScaler\n",
    "\n",
    "X = df.copy()\n",
    "y = (X.pop(\"wage\") == ' >50K').astype(int).values\n",
    "\n",
    "train_valid_size = 0.2\n",
    "\n",
    "X_train, X_test, y_train, y_test = train_test_split(\n",
    "    X, y, \n",
    "    test_size=train_valid_size, \n",
    "    random_state=0, \n",
    "    shuffle=True, \n",
    "    stratify=y\n",
    ")\n",
    "X_train, X_valid, y_train, y_valid = train_test_split(\n",
    "    X_train, y_train, \n",
    "    test_size=train_valid_size, \n",
    "    random_state=0, \n",
    "    shuffle=True, \n",
    "    stratify=y_train\n",
    ")\n",
    "\n",
    "continuous_cols = ['age', 'fnlwgt', 'education-num', 'capital-gain', 'capital-loss', 'hours-per-week']\n",
    "continuous_X_train = X_train[continuous_cols]\n",
    "categorical_X_train = X_train.loc[:, ~X_train.columns.isin(continuous_cols)]\n",
    "\n",
    "continuous_X_valid = X_valid[continuous_cols]\n",
    "categorical_X_valid = X_valid.loc[:, ~X_valid.columns.isin(continuous_cols)]\n",
    "\n",
    "continuous_X_test = X_test[continuous_cols]\n",
    "categorical_X_test = X_test.loc[:, ~X_test.columns.isin(continuous_cols)]\n",
    "\n",
    "categorical_encoder = OneHotEncoder(sparse=False, handle_unknown='ignore')\n",
    "continuous_scaler = StandardScaler() #MinMaxScaler(feature_range=(-1, 1))\n",
    "\n",
    "categorical_encoder.fit(categorical_X_train)\n",
    "continuous_scaler.fit(continuous_X_train)\n",
    "\n",
    "continuous_X_train = continuous_scaler.transform(continuous_X_train)\n",
    "continuous_X_valid = continuous_scaler.transform(continuous_X_valid)\n",
    "continuous_X_test = continuous_scaler.transform(continuous_X_test)\n",
    "\n",
    "categorical_X_train = categorical_encoder.transform(categorical_X_train)\n",
    "categorical_X_valid = categorical_encoder.transform(categorical_X_valid)\n",
    "categorical_X_test = categorical_encoder.transform(categorical_X_test)\n",
    "\n",
    "X_train = np.concatenate([continuous_X_train, categorical_X_train], axis=1)\n",
    "X_valid = np.concatenate([continuous_X_valid, categorical_X_valid], axis=1)\n",
    "X_test = np.concatenate([continuous_X_test, categorical_X_test], axis=1)\n",
    "\n",
    "X_train.shape, y_train.shape"
   ]
  },
  {
   "cell_type": "markdown",
   "metadata": {},
   "source": [
    "Uwaga co do typów - PyTorchu wszystko w sieci neuronowej musi być typu `float32`. W szczególności trzeba uważać na konwersje z Numpy'a, który używa domyślnie typu `float64`. Może ci się przydać metoda `.float()`.\n",
    "\n",
    "Uwaga co do kształtów wyjścia - wejścia do `nn.BCELoss` muszą być tego samego kształtu. Może ci się przydać metoda `.squeeze()` lub `.unsqueeze()`."
   ]
  },
  {
   "cell_type": "code",
   "execution_count": 99,
   "metadata": {
    "id": "qfRA3xEoLAs1"
   },
   "outputs": [],
   "source": [
    "X_train = torch.from_numpy(X_train).float()\n",
    "y_train = torch.from_numpy(y_train).float().unsqueeze(-1)\n",
    "\n",
    "X_valid = torch.from_numpy(X_valid).float()\n",
    "y_valid = torch.from_numpy(y_valid).float().unsqueeze(-1)\n",
    "\n",
    "X_test = torch.from_numpy(X_test).float()\n",
    "y_test = torch.from_numpy(y_test).float().unsqueeze(-1)"
   ]
  },
  {
   "cell_type": "markdown",
   "metadata": {},
   "source": [
    "Podobnie jak w laboratorium 2, mamy tu do czynienia z klasyfikacją niezbalansowaną:"
   ]
  },
  {
   "cell_type": "code",
   "execution_count": 100,
   "metadata": {},
   "outputs": [
    {
     "data": {
      "image/png": "[encoded data removed]",
      "text/plain": [
       "<Figure size 432x288 with 1 Axes>"
      ]
     },
     "metadata": {
      "needs_background": "light"
     },
     "output_type": "display_data"
    }
   ],
   "source": [
    "import matplotlib.pyplot as plt\n",
    "\n",
    "y_pos_perc = 100 * y_train.sum().item() / len(y_train)\n",
    "y_neg_perc = 100 - y_pos_perc\n",
    "\n",
    "plt.title(\"Class percentages\")\n",
    "plt.bar([\"<50k\", \">=50k\"], [y_neg_perc, y_pos_perc])\n",
    "plt.show()"
   ]
  },
  {
   "cell_type": "markdown",
   "metadata": {},
   "source": [
    "W związku z powyższym będziemy używać odpowiednich metryk, czyli AUROC, precyzji i czułości."
   ]
  },
  {
   "cell_type": "markdown",
   "metadata": {
    "id": "XLexWff-LAs0"
   },
   "source": [
    "#### Zadanie 3 (1 punkt)\n",
    "\n",
    "Zaimplementuj regresję logistyczną dla tego zbioru danych, używając PyTorcha. Dane wejściowe zostały dla ciebie przygotowane w komórkach poniżej.\n",
    "\n",
    "Sama sieć składa się z 2 elementów:\n",
    "- warstwa liniowa `nn.Linear`, przekształcająca wektor wejściowy na 1 wyjście - logit\n",
    "- aktywacja sigmoidalna `nn.Sigmoid`, przekształcająca logit na prawdopodobieństwo klasy pozytywnej\n",
    "\n",
    "Użyj binarnej entropii krzyżowej `nn.BCELoss` jako funkcji kosztu. Użyj optymalizatora SGD ze stałą uczącą `1e-3`. Trenuj przez 3000 epok. Pamiętaj, aby przekazać do optymalizatora `torch.optim.SGD` parametry sieci (metoda `.parameters()`)."
   ]
  },
  {
   "cell_type": "code",
   "execution_count": 101,
   "metadata": {
    "colab": {
     "base_uri": "https://localhost:8080/"
    },
    "id": "NbABKz5-LAs2",
    "outputId": "086dc0f3-0184-4072-9fd3-275b60dee2e4",
    "scrolled": true
   },
   "outputs": [
    {
     "name": "stdout",
     "output_type": "stream",
     "text": [
      "step 0 loss: 0.7000\n",
      "step 100 loss: 0.6659\n",
      "step 200 loss: 0.6376\n",
      "step 300 loss: 0.6138\n",
      "step 400 loss: 0.5938\n",
      "step 500 loss: 0.5767\n",
      "step 600 loss: 0.5621\n",
      "step 700 loss: 0.5494\n",
      "step 800 loss: 0.5383\n",
      "step 900 loss: 0.5285\n",
      "step 1000 loss: 0.5198\n",
      "step 1100 loss: 0.5120\n",
      "step 1200 loss: 0.5049\n",
      "step 1300 loss: 0.4985\n",
      "step 1400 loss: 0.4927\n",
      "step 1500 loss: 0.4873\n",
      "step 1600 loss: 0.4824\n",
      "step 1700 loss: 0.4778\n",
      "step 1800 loss: 0.4735\n",
      "step 1900 loss: 0.4695\n",
      "step 2000 loss: 0.4657\n",
      "step 2100 loss: 0.4622\n",
      "step 2200 loss: 0.4589\n",
      "step 2300 loss: 0.4557\n",
      "step 2400 loss: 0.4527\n",
      "step 2500 loss: 0.4499\n",
      "step 2600 loss: 0.4472\n",
      "step 2700 loss: 0.4446\n",
      "step 2800 loss: 0.4422\n",
      "step 2900 loss: 0.4398\n",
      "final loss: 0.4376\n"
     ]
    }
   ],
   "source": [
    "learning_rate = 1e-3\n",
    "\n",
    "model = nn.Linear(X_train.shape[1], 1)\n",
    "activation = nn.Sigmoid()\n",
    "optimizer = torch.optim.SGD(model.parameters(), lr=learning_rate)\n",
    "loss_fn = nn.BCELoss()\n",
    "\n",
    "#implement me!\n",
    "# raise NotImplementedError\n",
    "\n",
    "for i in range(3000):\n",
    "    outputs = activation(model(X_train))\n",
    "\n",
    "    # loss calculation\n",
    "    loss = loss_fn(outputs, y_train)\n",
    "\n",
    "    # backpropagation\n",
    "    loss.backward()\n",
    "\n",
    "    # optimization\n",
    "    optimizer.step()\n",
    "    optimizer.zero_grad()  # zeroes all gradients - very convenient!\n",
    "\n",
    "    if i % 100 == 0:\n",
    "        if loss < best_loss:\n",
    "            best_model = (a.clone(), b.clone())\n",
    "            best_loss = loss\n",
    "        print(f\"step {i} loss: {loss.item():.4f}\")\n",
    "print(f\"final loss: {loss.item():.4f}\")"
   ]
  },
  {
   "cell_type": "markdown",
   "metadata": {},
   "source": [
    "Teraz trzeba sprawdzić, jak poszło naszej sieci. W PyTorchu sieć pracuje zawsze w jednym z dwóch trybów: treningowym lub ewaluacyjnym (predykcyjnym). Ten drugi wyłącza niektóre mechanizmy, które są używane tylko podczas treningu, w szczególności regularyzację dropout. Do przełączania służą metody modelu `.train()` i `.eval()`.\n",
    "\n",
    "Dodatkowo podczas liczenia predykcji dobrze jest wyłączyć liczenie gradientów, bo nie będą potrzebne, a oszczędza to czas i pamięć. Używa się do tego menadżera kontekstu `with torch.no_grad():`."
   ]
  },
  {
   "cell_type": "code",
   "execution_count": 102,
   "metadata": {
    "colab": {
     "base_uri": "https://localhost:8080/"
    },
    "id": "zH37zDX4LAs2",
    "outputId": "b1f93309-6f04-4ffc-b0ca-08d0a32120a0",
    "scrolled": true
   },
   "outputs": [
    {
     "name": "stdout",
     "output_type": "stream",
     "text": [
      "AUROC: 85.19%\n"
     ]
    }
   ],
   "source": [
    "from sklearn.metrics import precision_recall_curve, precision_recall_fscore_support, roc_auc_score\n",
    "\n",
    "model.eval()\n",
    "with torch.no_grad():\n",
    "    y_score = activation(model(X_test))\n",
    "\n",
    "auroc = roc_auc_score(y_test, y_score)\n",
    "print(f\"AUROC: {100 * auroc:.2f}%\")"
   ]
  },
  {
   "cell_type": "markdown",
   "metadata": {},
   "source": [
    "Jest to całkiem dobry wynik, a może być jeszcze lepszy. Sprawdźmy dla pewności jeszcze inne metryki: precyzję, recall oraz F1-score. Dodatkowo narysujemy krzywą precision-recall, czyli jak zmieniają się te metryki w zależności od przyjętego progu (threshold) prawdopodobieństwa, powyżej którego przyjmujemy klasę pozytywną. Taką krzywą należy rysować na zbiorze walidacyjnym, bo później chcemy wykorzystać tę informację do doboru progu, a nie chcemy mieć wycieku danych testowych (data leakage).\n",
    "\n",
    "Poniżej zaimplementowano także funkcję `get_optimal_threshold()`, która sprawdza, dla którego progu uzyskujemy maksymalny F1-score, i zwraca indeks oraz wartość optymalnego progu. Przyda ci się ona w dalszej części laboratorium."
   ]
  },
  {
   "cell_type": "code",
   "execution_count": 103,
   "metadata": {},
   "outputs": [],
   "source": [
    "from sklearn.metrics import PrecisionRecallDisplay\n",
    "\n",
    "\n",
    "def get_optimal_threshold(\n",
    "    precisions: np.array, \n",
    "    recalls: np.array, \n",
    "    thresholds: np.array\n",
    ") -> Tuple[int, float]:\n",
    "    f1_scores = 2 * precisions * recalls / (precisions + recalls)\n",
    "    \n",
    "    optimal_idx = np.nanargmax(f1_scores)\n",
    "    optimal_threshold = thresholds[optimal_idx]\n",
    "    \n",
    "    return optimal_idx, optimal_threshold\n",
    "\n",
    "\n",
    "def plot_precision_recall_curve(y_true, y_pred_score) -> None:\n",
    "    precisions, recalls, thresholds = precision_recall_curve(y_true, y_pred_score)\n",
    "    optimal_idx, optimal_threshold = get_optimal_threshold(precisions, recalls, thresholds)\n",
    "\n",
    "    disp = PrecisionRecallDisplay(precisions, recalls)\n",
    "    disp.plot()\n",
    "    plt.title(f\"Precision-recall curve (opt. thresh.: {optimal_threshold:.4f})\")\n",
    "    plt.axvline(recalls[optimal_idx], color=\"green\", linestyle=\"-.\")\n",
    "    plt.axhline(precisions[optimal_idx], color=\"green\", linestyle=\"-.\")\n",
    "    plt.show()\n"
   ]
  },
  {
   "cell_type": "code",
   "execution_count": 104,
   "metadata": {},
   "outputs": [
    {
     "data": {
      "image/png": "[encoded data removed]",
      "text/plain": [
       "<Figure size 432x288 with 1 Axes>"
      ]
     },
     "metadata": {
      "needs_background": "light"
     },
     "output_type": "display_data"
    }
   ],
   "source": [
    "model.eval()\n",
    "with torch.no_grad():\n",
    "    y_pred_valid_score = activation(model(X_valid))\n",
    "\n",
    "plot_precision_recall_curve(y_valid, y_pred_valid_score)"
   ]
  },
  {
   "cell_type": "markdown",
   "metadata": {
    "id": "vfQPIUQ_LAs2"
   },
   "source": [
    "Jak widać, chociaż AUROC jest wysokie, to dla optymalnego F1-score recall nie jest zbyt wysoki, a precyzja jest już dość niska. Być może wynik uda się poprawić, używając modelu o większej pojemności - pełnej, głębokiej sieci neuronowej."
   ]
  },
  {
   "cell_type": "markdown",
   "metadata": {},
   "source": [
    "## Sieci neuronowe"
   ]
  },
  {
   "cell_type": "markdown",
   "metadata": {
    "id": "YP298w6Cq7T6"
   },
   "source": [
    "Wszystko zaczęło się od inspirowanych biologią [sztucznych neuronów](https://en.wikipedia.org/wiki/Artificial_neuron), których próbowano użyć do symulacji mózgu. Naukowcy szybko odeszli od tego podejścia (sam problem modelowania okazał się też znacznie trudniejszy, niż sądzono), zamiast tego używając neuronów jako jednostek reprezentującą dowolną funkcję parametryczną $f(x, \\Theta)$. Każdy neuron jest zatem bardzo elastyczny, bo jedyne wymagania to funkcja różniczkowalna, a mamy do tego wektor parametrów $\\Theta$.\n",
    "\n",
    "W praktyce najczęściej można spotkać się z kilkoma rodzinami sieci neuronowych:\n",
    "1. Perceptrony wielowarstwowe (*MultiLayer Perceptron*, MLP) - najbardziej podobne do powyższego opisu, niezbędne do klasyfikacji i regresji\n",
    "2. Konwolucyjne (*Convolutional Neural Networks*, CNNs) - do przetwarzania danych z zależnościami przestrzennymi, np. obrazów czy dźwięku\n",
    "3. Rekurencyjne (*Recurrent Neural Networks*, RNNs) - do przetwarzania danych z zależnościami sekwencyjnymi, np. szeregi czasowe, oraz kiedyś do języka naturalnego\n",
    "4. Transformacyjne (*Transformers*), oparte o mechanizm atencji (*attention*) - do przetwarzania języka naturalnego (NLP), z którego wyparły RNNs, a coraz częściej także do wszelkich innych danych, np. obrazów, dźwięku\n",
    "5. Grafowe (*Graph Neural Networks*, GNNS) - do przetwarzania grafów\n",
    "\n",
    "Na tym laboratorium skupimy się na najprostszej architekturze, czyli MLP. Jest ona powszechnie łączona z wszelkimi innymi architekturami, bo pozwala dokonywać klasyfikacji i regresji. Przykładowo, klasyfikacja obrazów to zwykle CNN + MLP, klasyfikacja tekstów to transformer + MLP, a regresja na grafach to GNN + MLP.\n",
    "\n",
    "Dodatkowo, pomimo prostoty MLP są bardzo potężne - udowodniono, że perceptrony (ich powszechna nazwa) są [uniwersalnym aproksymatorem](https://www.sciencedirect.com/science/article/abs/pii/0893608089900208), będącym w stanie przybliżyć dowolną funkcję z odpowiednio małym błędem, zakładając wystarczającą wielkość warstw sieci. Szczególne ich wersje potrafią nawet [reprezentować drzewa decyzyjne](https://www.youtube.com/watch?v=_okxGdHM5b8).\n",
    "\n",
    "Dla zainteresowanych polecamy [doskonałą książkę \"Dive into Deep Learning\", z implementacjami w PyTorchu](https://d2l.ai/chapter_multilayer-perceptrons/index.html), [klasyczną książkę \"Deep Learning Book\"](https://www.deeplearningbook.org/contents/mlp.html), oraz [ten filmik](https://www.youtube.com/watch?v=BFHrIxKcLjA), jeśli zastanawiałeś/-aś się, czemu używamy deep learning, a nie naprzykład (wide?) learning. (aka. czemu staramy się budować głębokie sieci, a nie płytkie za to szerokie)"
   ]
  },
  {
   "attachments": {
    "1_x-3NGQv0pRIab8xDT-f_Hg.png": {
     "image/png": "[encoded data removed]"
    }
   },
   "cell_type": "markdown",
   "metadata": {
    "id": "S_ZjoGBU5upj"
   },
   "source": [
    "### Sieci MLP\n",
    "\n",
    "Dla przypomnienia, na wejściu mamy punkty ze zbioru treningowego, czyli $d$-wymiarowe wektory. W klasyfikacji chcemy znaleźć granicę decyzyjną, czyli krzywą, która oddzieli od siebie klasy. W wejściowej przestrzeni może być to trudne, bo chmury punktów z poszczególnych klas mogą być ze sobą dość pomieszane. Pamiętajmy też, że regresja logistyczna jest klasyfikatorem liniowym, czyli w danej przestrzeni potrafi oddzielić punkty tylko linią prostą.\n",
    "\n",
    "Sieć MLP składa się z warstw. Każda z nich dokonuje nieliniowego przekształcenia przestrzeni (można o tym myśleć jak o składaniu przestrzeni jakąś prostą/łamaną), tak, aby w finalnej przestrzeni nasze punkty były możliwie liniowo separowalne. Wtedy ostatnia warstwa z sigmoidą będzie potrafiła je rozdzielić od siebie.\n",
    "\n",
    "![1_x-3NGQv0pRIab8xDT-f_Hg.png](attachment:1_x-3NGQv0pRIab8xDT-f_Hg.png)\n",
    "\n",
    "Poszczególne neurony składają się z iloczynu skalarnego wejść z wagami neuronu, oraz nieliniowej funkcji aktywacji. W PyTorchu są to osobne obiekty - `nn.Linear` oraz np. `nn.Sigmoid`. Funkcja aktywacji przyjmuje wynik iloczynu skalarnego i przekształca go, aby sprawdzić, jak mocno reaguje neuron na dane wejście. Musi być nieliniowa z dwóch powodów. Po pierwsze, tylko nieliniowe przekształcenia są na tyle potężne, żeby umożliwić liniową separację danych w ostatniej warstwie. Po drugie, liniowe przekształcenia zwyczajnie nie działają. Aby zrozumieć czemu, trzeba zobaczyć, co matematycznie oznacza sieć MLP.\n",
    "\n",
    "![perceptron](https://www.saedsayad.com/images/Perceptron_bkp_1.png)\n",
    "\n",
    "Zapisane matematycznie MLP to:\n",
    "$\n",
    "h_1 = f_1(x) \\\\\n",
    "h_2 = f_2(h_1) \\\\\n",
    "h_3 = f_3(h_2) \\\\\n",
    "...\n",
    "h_n = f_n(h_{n-1})\n",
    "$\n",
    "gdzie $x$ to wejście $f_i$ to funkcja aktywacji $i$-tej warstwy, a $h_i$ to wyjście $i$-tej warstwy, nazywane **ukrytą reprezentacją (hidden representation)**, lub *latent representation*. Nazwa bierze się z tego, że w środku sieci wyciągamy cechy i wzorce w danych, które nie są widoczne na pierwszy rzut oka na wejściu.\n",
    "\n",
    "Załóżmy, że nie mamy funkcji aktywacji, czyli mamy aktywację liniową $f(x) = x$. Zobaczmy na początku sieci:\n",
    "$\n",
    "h_1 = f_1(x) = x\n",
    "h_2 = f_2(f_1) = f_2(x) = x\n",
    "...\n",
    "h_n = f_n(f_{n-1}) = f_n(x) = x\n",
    "$\n",
    "Jak widać, taka sieć niczego się nie nauczy. Wynika to z tego, że złożenie funkcji liniowych jest także funkcją liniową - patrz notatki z algebry :)\n",
    "\n",
    "Jeżeli natomiast użyjemy nieliniowej funkcji aktywacji, często oznaczanej jako $\\sigma$, to wszystko będzie działać. Co ważne, ostatnia warstwa, dająca wyjście sieci, ma zwykle inną aktywację od warstw wewnątrz sieci, bo też ma inne zadanie - zwrócić wartość dla klasyfikacji lub regresji. Na wyjściu korzysta się z funkcji liniowej (regresja), sigmoidalnej (klasyfikacja binarna) lub softmax (klasyfikacja wieloklasowa).\n",
    "\n",
    "Wewnątrz sieci używano kiedyś sigmoidy oraz tangensa hiperbolicznego `tanh`, ale okazało się to nieefektywne przy uczeniu głębokich sieci o wielu warstwach. Nowoczesne sieci korzystają zwykle z funkcji ReLU (*rectified linear unit*), która jest zaskakująco prosta: $ReLU(x) = \\max(0, x)$. Okazało się, że bardzo dobrze nadaje się do treningu nawet bardzo głębokich sieci neuronowych. Nowsze funkcje aktywacji są głównie modyfikacjami ReLU.\n",
    "\n",
    "![relu](https://www.nomidl.com/wp-content/uploads/2022/04/image-10.png)"
   ]
  },
  {
   "cell_type": "markdown",
   "metadata": {},
   "source": [
    "### MLP w PyTorchu\n",
    "\n",
    "Warstwę neuronów w MLP nazywa się warstwą gęstą (*dense layer*) lub warstwą w pełni połączoną (*fully-connected layer*), i taki opis oznacza zwykle same neurony oraz funkcję aktywacji. PyTorch, jak już widzieliśmy, definiuje osobno transformację liniową oraz aktywację, a więc jedna warstwa składa się de facto z 2 obiektów, wywoływanych jeden po drugim. Inne frameworki, szczególnie wysokopoziomowe (np. Keras) łączą to często w jeden obiekt.\n",
    "\n",
    "MLP składa się zatem z sekwencji obiektów, które potem wywołuje się jeden po drugim, gdzie wyjście poprzedniego to wejście kolejnego. Ale nie można tutaj używać Pythonowych list! Z perspektywy PyTorcha to wtedy niezależne obiekty i nie zostanie wtedy przekazany między nimi gradient. Trzeba tutaj skorzystać z `nn.Sequential`, aby tworzyć taki pipeline.\n",
    "\n",
    "Rozmiary wejścia i wyjścia dla każdej warstwy trzeba w PyTorchu podawać explicite. Jest to po pierwsze edukacyjne, a po drugie często ułatwia wnioskowanie o działaniu sieci oraz jej debugowanie - mamy jasno podane, czego oczekujemy. Niektóre frameworki (np. Keras) obliczają to automatycznie.\n",
    "\n",
    "Co ważne, ostatnia warstwa zwykle nie ma funkcji aktywacji. Wynika to z tego, że obliczanie wielu funkcji kosztu (np. entropii krzyżowej) na aktywacjach jest często niestabilne numerycznie. Z tego powodu PyTorch oferuje funkcje kosztu zawierające w środku aktywację dla ostatniej warstwy, a ich implementacje są stabilne numerycznie. Przykładowo, `nn.BCELoss` przyjmuje wejście z zaaplikowanymi już aktywacjami, ale może skutkować under/overflow, natomiast `nn.BCEWithLogitsLoss` przyjmuje wejście bez aktywacji, a w środku ma specjalną implementację łączącą binarną entropię krzyżową z aktywacją sigmoidalną. Oczywiście w związku z tym aby dokonać potem predykcji w praktyce, trzeba pamiętać o użyciu funkcji aktywacji. Często korzysta się przy tym z funkcji z modułu `torch.nn.functional`, które są w tym wypadku nieco wygodniejsze od klas wywoływalnych z `torch.nn`.\n",
    "\n",
    "Całe sieci w PyTorchu tworzy się jako klasy dziedziczące po `nn.Module`. Co ważne, obiekty, z których tworzymy sieć, np. `nn.Linear`, także dziedziczą po tej klasie. Pozwala to na bardzo modułową budowę kodu, zgodną z zasadami OOP. W konstruktorze najpierw trzeba zawsze wywołać konstruktor rodzica - `super().__init__()`, a później tworzy się potrzebne obiekty i zapisuje jako atrybuty. Musimy też zdefiniować metodę `forward()`, która przyjmuje tensor `x` i zwraca wynik. Typowo ta metoda po prostu używa obiektów zdefiniowanych w konstruktorze.\n",
    "\n",
    "\n",
    "**UWAGA: nigdy w normalnych warunkach się nie woła metody `forward` ręcznie**"
   ]
  },
  {
   "cell_type": "markdown",
   "metadata": {
    "id": "J8niDgExAMDO"
   },
   "source": [
    "#### Zadanie 4 (1 punkt)\n",
    "\n",
    "Uzupełnij implementację 3-warstwowej sieci MLP. Użyj rozmiarów:\n",
    "* pierwsza warstwa: input_size x 256\n",
    "* druga warstwa: 256 x 128\n",
    "* trzecia warstwa: 128 x 1\n",
    "\n",
    "Użyj funkcji aktywacji ReLU.\n",
    "\n",
    "Przydatne klasy:\n",
    "- `nn.Sequential`\n",
    "- `nn.Linear`\n",
    "- `nn.ReLU`"
   ]
  },
  {
   "cell_type": "code",
   "execution_count": 105,
   "metadata": {
    "colab": {
     "base_uri": "https://localhost:8080/"
    },
    "id": "pZpuVDz1ALU5",
    "outputId": "cfe0d6ac-d2ce-43dd-cc22-837063f0f6bf"
   },
   "outputs": [],
   "source": [
    "from torch import sigmoid\n",
    "\n",
    "class MLP(nn.Module):\n",
    "    def __init__(self, input_size: int):\n",
    "        super().__init__()\n",
    "\n",
    "        # implement me!\n",
    "        # raise NotImplementedError\n",
    "        self.mlp = nn.Sequential(\n",
    "            nn.Linear(input_size, 256),\n",
    "            nn.ReLU(),\n",
    "            nn.Linear(256, 128),\n",
    "            nn.ReLU(),\n",
    "            nn.Linear(128, 1)\n",
    "        )\n",
    "\n",
    "    def forward(self, x):\n",
    "        # implement me!\n",
    "        # raise NotImplementedError\n",
    "        return self.mlp(x)\n",
    "\n",
    "    def predict_proba(self, x):\n",
    "        return sigmoid(self(x))\n",
    "    \n",
    "    def predict(self, x):\n",
    "        y_pred_score = self.predict_proba(x)\n",
    "        return torch.argmax(y_pred_score, dim=1)\n"
   ]
  },
  {
   "cell_type": "code",
   "execution_count": 106,
   "metadata": {},
   "outputs": [
    {
     "name": "stdout",
     "output_type": "stream",
     "text": [
      "Epoch 0 train loss: 0.7199\n",
      "Epoch 200 train loss: 0.6928\n",
      "Epoch 400 train loss: 0.6697\n",
      "Epoch 600 train loss: 0.6496\n",
      "Epoch 800 train loss: 0.6318\n",
      "Epoch 1000 train loss: 0.6161\n",
      "Epoch 1200 train loss: 0.6021\n",
      "Epoch 1400 train loss: 0.5896\n",
      "Epoch 1600 train loss: 0.5785\n",
      "Epoch 1800 train loss: 0.5687\n",
      "final loss: 0.5599\n"
     ]
    }
   ],
   "source": [
    "learning_rate = 1e-3\n",
    "model = MLP(input_size=X_train.shape[1])\n",
    "optimizer = torch.optim.SGD(model.parameters(), lr=learning_rate)\n",
    "\n",
    "# note that we are using loss function with sigmoid built in\n",
    "loss_fn = torch.nn.BCEWithLogitsLoss()\n",
    "num_epochs = 2000\n",
    "evaluation_steps = 200\n",
    "\n",
    "for i in range(num_epochs):\n",
    "    y_pred = model(X_train)\n",
    "    loss = loss_fn(y_pred, y_train)\n",
    "    loss.backward()\n",
    "\n",
    "    optimizer.step()\n",
    "    optimizer.zero_grad()\n",
    "\n",
    "    if i % evaluation_steps == 0:\n",
    "        print(f\"Epoch {i} train loss: {loss.item():.4f}\")\n",
    "\n",
    "print(f\"final loss: {loss.item():.4f}\")"
   ]
  },
  {
   "cell_type": "code",
   "execution_count": 107,
   "metadata": {
    "colab": {
     "base_uri": "https://localhost:8080/"
    },
    "id": "LP5GSup24dXU",
    "outputId": "05f332c4-5d94-41f6-f85b-17793d3c4b49"
   },
   "outputs": [
    {
     "name": "stdout",
     "output_type": "stream",
     "text": [
      "AUROC: 73.80%\n"
     ]
    },
    {
     "data": {
      "image/png": "[encoded data removed]",
      "text/plain": [
       "<Figure size 432x288 with 1 Axes>"
      ]
     },
     "metadata": {
      "needs_background": "light"
     },
     "output_type": "display_data"
    }
   ],
   "source": [
    "model.eval()\n",
    "with torch.no_grad():\n",
    "    # positive class probabilities\n",
    "    y_pred_valid_score = model.predict_proba(X_valid)\n",
    "    y_pred_test_score = model.predict_proba(X_test)\n",
    "\n",
    "auroc = roc_auc_score(y_test, y_pred_test_score)\n",
    "print(f\"AUROC: {100 * auroc:.2f}%\")\n",
    "\n",
    "plot_precision_recall_curve(y_valid, y_pred_valid_score)"
   ]
  },
  {
   "cell_type": "markdown",
   "metadata": {},
   "source": [
    "AUROC jest podobne, a precision i recall spadły - wypadamy wręcz gorzej od regresji liniowej! Skoro dodaliśmy więcej warstw, to może pojemność modelu jest teraz za duża i trzeba by go zregularyzować?\n",
    "\n",
    "Sieci neuronowe bardzo łatwo przeuczają, bo są bardzo elastycznymi i pojemnymi modelami. Dlatego mają wiele różnych rodzajów regularyzacji, których używa się razem. Co ciekawe, udowodniono eksperymentalnie, że zbyt duże sieci z mocną regularyzacją działają lepiej niż mniejsze sieci, odpowiedniego rozmiaru, za to ze słabszą regularyzacją.\n",
    "\n",
    "Pierwszy rodzaj regularyzacji to znana nam już **regularyzacja L2**, czyli penalizacja zbyt dużych wag. W kontekście sieci neuronowych nazywa się też ją czasem *weight decay*. W PyTorchu dodaje się ją jako argument do optymalizatora.\n",
    "\n",
    "Regularyzacja specyficzna dla sieci neuronowych to **dropout**. Polega on na losowym wyłączaniu zadanego procenta neuronów podczas treningu. Pomimo prostoty okazała się niesamowicie skuteczna, szczególnie w treningu bardzo głębokich sieci. Co ważne, jest to mechanizm używany tylko podczas treningu - w trakcie predykcji za pomocą sieci wyłącza się ten mechanizm i dokonuje normalnie predykcji całą siecią. Podejście to można potraktować jak ensemble learning, podobny do lasów losowych - wyłączając losowe części sieci, w każdej iteracji trenujemy nieco inną sieć, co odpowiada uśrednianiu predykcji różnych algorytmów. Typowo stosuje się dość mocny dropout, rzędu 25-50%. W PyTorchu implementuje go warstwa `nn.Dropout`, aplikowana zazwyczaj po funkcji aktywacji.\n",
    "\n",
    "Ostatni, a być może najważniejszy rodzaj regularyzacji to **wczesny stop (early stopping)**. W każdym kroku mocniej dostosowujemy terenową sieć do zbioru treningowego, a więc zbyt długi trening będzie skutkował przeuczeniem. W metodzie wczesnego stopu używamy wydzielonego zbioru walidacyjnego (pojedynczego, metoda holdout), sprawdzając co określoną liczbę epok wynik na tym zbiorze. Jeżeli nie uzyskamy wyniku lepszego od najlepszego dotychczas uzyskanego przez określoną liczbę epok, to przerywamy trening. Okres, przez który czekamy na uzyskanie lepszego wyniku, to cierpliwość (*patience*). Im mniejsze, tym mocniejszy jest ten rodzaj regularyzacji, ale trzeba z tym uważać, bo łatwo jest przesadzić i zbyt szybko przerywać trening. Niektóre implementacje uwzględniają tzw. *grace period*, czyli gwarantowaną minimalną liczbę epok, przez którą będziemy trenować sieć, niezależnie od wybranej cierpliwości.\n",
    "\n",
    "Dodatkowo ryzyko przeuczenia można zmniejszyć, używając mniejszej stałej uczącej."
   ]
  },
  {
   "cell_type": "markdown",
   "metadata": {},
   "source": [
    "#### Zadanie 5 (1 punkt)\n",
    "\n",
    "Zaimplementuj funkcję `evaluate_model()`, obliczającą metryki na zbiorze testowym:\n",
    "- wartość funkcji kosztu (loss)\n",
    "- AUROC\n",
    "- optymalny próg\n",
    "- F1-score przy optymalnym progu\n",
    "- precyzję oraz recall dla optymalnego progu\n",
    "\n",
    "Jeżeli podana jest wartość argumentu `threshold`, to użyj jej do zamiany prawdopodobieństw na twarde predykcje. W przeciwnym razie użyj funkcji `get_optimal_threshold` i oblicz optymalną wartość progu.\n",
    "\n",
    "Pamiętaj o przełączeniu modelu w tryb ewaluacji oraz o wyłączeniu obliczania gradientów."
   ]
  },
  {
   "cell_type": "code",
   "execution_count": 108,
   "metadata": {},
   "outputs": [],
   "source": [
    "from typing import Optional\n",
    "\n",
    "from sklearn.metrics import precision_score, recall_score, f1_score\n",
    "from torch import sigmoid\n",
    "\n",
    "def evaluate_model(\n",
    "    model: nn.Module, \n",
    "    X: torch.Tensor, \n",
    "    y: torch.Tensor, \n",
    "    loss_fn: nn.Module,\n",
    "    threshold: Optional[float]= None\n",
    ") -> Dict[str, float]:\n",
    "    # implement me!\n",
    "    model.eval()\n",
    "    # raise NotImplementedError\n",
    "    with torch.no_grad():\n",
    "        y_hat = model(X)\n",
    "        \n",
    "    auroc = roc_auc_score(y, y_hat)\n",
    "    loss = loss_fn(y_hat,y)\n",
    "    \n",
    "    if threshold is None:\n",
    "        precisions, recalls, thresholds = precision_recall_curve(y, y_hat)\n",
    "        _, threshold = get_optimal_threshold(precisions, recalls, thresholds)\n",
    "    \n",
    "    y_pred = np.array(y_hat > threshold, float)\n",
    "    \n",
    "    precision = precision_score(y, y_pred)\n",
    "    recall = recall_score(y, y_pred)\n",
    "    f1 = f1_score(y, y_pred)\n",
    "    \n",
    "    results = {\n",
    "        \"loss\": loss,\n",
    "        \"AUROC\": auroc,\n",
    "        \"optimal_threshold\": threshold,\n",
    "        \"precision\": precision,\n",
    "        \"recall\": recall,\n",
    "        \"F1-score\": f1,\n",
    "    }\n",
    "    return results\n"
   ]
  },
  {
   "cell_type": "markdown",
   "metadata": {},
   "source": [
    "#### Zadanie 6 (1 punkt)\n",
    "\n",
    "Zaimplementuj 3-warstwową sieć MLP z regularyzacją L2 oraz dropout (50%). Rozmiary warstw ukrytych mają wynosić 256 i 128."
   ]
  },
  {
   "cell_type": "code",
   "execution_count": 109,
   "metadata": {},
   "outputs": [],
   "source": [
    "class RegularizedMLP(nn.Module):\n",
    "    def __init__(self, input_size: int, dropout_p: float = 0.5):\n",
    "        super().__init__()\n",
    "\n",
    "        # implement me!\n",
    "        #raise NotImplementedError\n",
    "        \n",
    "        self.mlp = nn.Sequential(\n",
    "            nn.Linear(input_size, 256),\n",
    "            nn.ReLU(),\n",
    "            nn.Dropout(dropout_p),\n",
    "            nn.Linear(256, 128),\n",
    "            nn.ReLU(),\n",
    "            nn.Dropout(dropout_p),\n",
    "            nn.Linear(128, 1)\n",
    "        )\n",
    "    \n",
    "    def forward(self, x):\n",
    "        # implement me!\n",
    "        return self.mlp(x)\n",
    "\n",
    "    def predict_proba(self, x):\n",
    "        return sigmoid(self(x))\n",
    "    \n",
    "    def predict(self, x):\n",
    "        y_pred_score = self.predict_proba(x)\n",
    "        return torch.argmax(y_pred_score, dim=1)\n"
   ]
  },
  {
   "cell_type": "markdown",
   "metadata": {
    "id": "rEk9azaULAsz"
   },
   "source": [
    "Opisaliśmy wcześniej podstawowy optymalizator w sieciach neuronowych - spadek wzdłuż gradientu. Jednak wymaga on użycia całego zbioru danych, aby obliczyć gradient, co jest często niewykonalne przez rozmiar zbioru. Dlatego wymyślono **stochastyczny spadek wzdłuż gradientu (stochastic gradient descent, SGD)**, w którym używamy 1 przykładu naraz, liczymy gradient tylko po nim i aktualizujemy parametry. Jest to oczywiście dość grube przybliżenie gradientu, ale pozwala robić szybko dużo małych kroków. Kompromisem, którego używa się w praktyce, jest **minibatch gradient descent**, czyli używanie batchy np. 32, 64 czy 128 przykładów.\n",
    "\n",
    "Rzadko wspominanym, a ważnym faktem jest także to, że stochastyczność metody optymalizacji jest sama w sobie też [metodą regularyzacji](https://arxiv.org/abs/2101.12176), a więc `batch_size` to także hiperparametr.\n",
    "\n",
    "Obecnie najpopularniejszą odmianą SGD jest [Adam](https://arxiv.org/abs/1412.6980), gdyż uczy on szybko sieć oraz daje bardzo dobre wyniki nawet przy niekoniecznie idealnie dobranych hiperparametrach. W PyTorchu najlepiej korzystać z jego implementacji `AdamW`, która jest nieco lepsza niż implementacja `Adam`. Jest to zasadniczo zawsze wybór domyślny przy treningu współczesnych sieci neuronowych.\n",
    "\n",
    "Na razie użyjemy jednak minibatch SGD."
   ]
  },
  {
   "cell_type": "markdown",
   "metadata": {},
   "source": [
    "Poniżej znajduje się implementacja prostej klasy dziedziczącej po `Dataset` - tak w PyTorchu implementuje się własne zbiory danych. Użycie takich klas umożliwia użycie klas ładujących dane (`DataLoader`), które z kolei pozwalają łatwo ładować batche danych. Trzeba w takiej klasie zaimplementować metody:\n",
    "- `__len__` - zwraca ilość punktów w zbiorze\n",
    "- `__getitem__` - zwraca przykład ze zbioru pod danym indeksem oraz jego klasę\n"
   ]
  },
  {
   "cell_type": "code",
   "execution_count": 110,
   "metadata": {},
   "outputs": [],
   "source": [
    "from torch.utils.data import Dataset\n",
    "\n",
    "class MyDataset(Dataset):\n",
    "    def __init__(self, data, y):\n",
    "        super().__init__()\n",
    "        \n",
    "        self.data = data\n",
    "        self.y = y\n",
    "    \n",
    "    def __len__(self):\n",
    "        return self.data.shape[0]\n",
    "    \n",
    "    def __getitem__(self, idx):\n",
    "        return self.data[idx], self.y[idx]\n"
   ]
  },
  {
   "cell_type": "markdown",
   "metadata": {},
   "source": [
    "#### Zadanie 7 (2 punkty)\n",
    "\n",
    "Zaimplementuj pętlę treningowo-walidacyjną dla sieci neuronowej. Wykorzystaj podane wartości hiperparametrów do treningu (stała ucząca, prawdopodobieństwo dropoutu, regularyzacja L2, rozmiar batcha, maksymalna liczba epok). Użyj optymalizatora SGD.\n",
    "\n",
    "Dodatkowo zaimplementuj regularyzację przez early stopping. Sprawdzaj co epokę wynik na zbiorze walidacyjnym. Użyj podanej wartości patience, a jako metryki po prostu wartości funkcji kosztu. Może się tutaj przydać zaimplementowana funkcja `evaluate_model()`.\n",
    "\n",
    "Pamiętaj o tym, aby przechowywać najlepszy dotychczasowy wynik walidacyjny oraz najlepszy dotychczasowy model. Zapamiętaj też optymalny próg do klasyfikacji dla najlepszego modelu."
   ]
  },
  {
   "cell_type": "code",
   "execution_count": 111,
   "metadata": {},
   "outputs": [],
   "source": [
    "from copy import deepcopy\n",
    "\n",
    "from torch.utils.data import DataLoader\n",
    "\n",
    "\n",
    "learning_rate = 1e-3\n",
    "dropout_p = 0.5\n",
    "l2_reg = 1e-4\n",
    "batch_size = 128\n",
    "max_epochs = 300\n",
    "\n",
    "early_stopping_patience = 4"
   ]
  },
  {
   "cell_type": "code",
   "execution_count": 113,
   "metadata": {
    "scrolled": true
   },
   "outputs": [
    {
     "name": "stdout",
     "output_type": "stream",
     "text": [
      "Epoch 0 train loss: 0.6730, eval loss 0.6763467788696289\n",
      "Epoch 1 train loss: 0.6604, eval loss 0.6598294973373413\n",
      "Epoch 2 train loss: 0.6393, eval loss 0.6451405882835388\n",
      "Epoch 3 train loss: 0.6298, eval loss 0.6319977641105652\n",
      "Epoch 4 train loss: 0.6182, eval loss 0.6201775074005127\n"
     ]
    },
    {
     "name": "stderr",
     "output_type": "stream",
     "text": [
      "C:\\Users\\wszyb\\AppData\\Local\\Temp/ipykernel_5900/2237191592.py:9: RuntimeWarning: invalid value encountered in true_divide\n",
      "  f1_scores = 2 * precisions * recalls / (precisions + recalls)\n"
     ]
    },
    {
     "name": "stdout",
     "output_type": "stream",
     "text": [
      "Epoch 5 train loss: 0.6069, eval loss 0.6094583868980408\n",
      "Epoch 6 train loss: 0.5892, eval loss 0.5997173190116882\n",
      "Epoch 7 train loss: 0.5900, eval loss 0.5909295082092285\n",
      "Epoch 8 train loss: 0.5823, eval loss 0.582973301410675\n",
      "Epoch 9 train loss: 0.5665, eval loss 0.5757833123207092\n",
      "Epoch 10 train loss: 0.5531, eval loss 0.5692403316497803\n",
      "Epoch 11 train loss: 0.5557, eval loss 0.5632551312446594\n",
      "Epoch 12 train loss: 0.5497, eval loss 0.5578193664550781\n",
      "Epoch 13 train loss: 0.5471, eval loss 0.552862286567688\n",
      "Epoch 14 train loss: 0.5391, eval loss 0.5482717156410217\n",
      "Epoch 15 train loss: 0.5392, eval loss 0.5440223217010498\n",
      "Epoch 16 train loss: 0.5343, eval loss 0.5400766730308533\n",
      "Epoch 17 train loss: 0.5351, eval loss 0.5363577008247375\n",
      "Epoch 18 train loss: 0.5112, eval loss 0.5328170657157898\n",
      "Epoch 19 train loss: 0.5227, eval loss 0.5294241309165955\n",
      "Epoch 20 train loss: 0.5215, eval loss 0.5261390805244446\n",
      "Epoch 21 train loss: 0.5214, eval loss 0.5229467153549194\n",
      "Epoch 22 train loss: 0.4956, eval loss 0.5198209285736084\n",
      "Epoch 23 train loss: 0.5115, eval loss 0.5167294144630432\n",
      "Epoch 24 train loss: 0.5104, eval loss 0.5136573910713196\n",
      "Epoch 25 train loss: 0.5111, eval loss 0.5106326341629028\n",
      "Epoch 26 train loss: 0.5168, eval loss 0.5076045393943787\n",
      "Epoch 27 train loss: 0.5063, eval loss 0.5045583248138428\n",
      "Epoch 28 train loss: 0.4950, eval loss 0.5014912486076355\n",
      "Epoch 29 train loss: 0.4909, eval loss 0.49840056896209717\n",
      "Epoch 30 train loss: 0.4951, eval loss 0.4953067898750305\n",
      "Epoch 31 train loss: 0.4890, eval loss 0.49214208126068115\n",
      "Epoch 32 train loss: 0.4838, eval loss 0.4889907240867615\n",
      "Epoch 33 train loss: 0.4894, eval loss 0.48581960797309875\n",
      "Epoch 34 train loss: 0.4959, eval loss 0.4826040267944336\n",
      "Epoch 35 train loss: 0.4852, eval loss 0.47938254475593567\n",
      "Epoch 36 train loss: 0.4820, eval loss 0.47613322734832764\n",
      "Epoch 37 train loss: 0.4829, eval loss 0.4728582501411438\n",
      "Epoch 38 train loss: 0.4639, eval loss 0.4695945084095001\n",
      "Epoch 39 train loss: 0.4602, eval loss 0.46630212664604187\n",
      "Epoch 40 train loss: 0.4647, eval loss 0.4630177915096283\n",
      "Epoch 41 train loss: 0.4702, eval loss 0.45970281958580017\n",
      "Epoch 42 train loss: 0.4613, eval loss 0.45642566680908203\n",
      "Epoch 43 train loss: 0.4684, eval loss 0.4531777501106262\n",
      "Epoch 44 train loss: 0.4547, eval loss 0.4499490261077881\n",
      "Epoch 45 train loss: 0.4437, eval loss 0.4467402398586273\n",
      "Epoch 46 train loss: 0.4432, eval loss 0.44353702664375305\n",
      "Epoch 47 train loss: 0.4446, eval loss 0.4403890073299408\n",
      "Epoch 48 train loss: 0.4493, eval loss 0.4372516870498657\n",
      "Epoch 49 train loss: 0.4380, eval loss 0.43417561054229736\n",
      "Epoch 50 train loss: 0.4363, eval loss 0.4311581552028656\n",
      "Epoch 51 train loss: 0.4296, eval loss 0.42819005250930786\n",
      "Epoch 52 train loss: 0.4427, eval loss 0.4252931475639343\n",
      "Epoch 53 train loss: 0.4352, eval loss 0.42244288325309753\n",
      "Epoch 54 train loss: 0.4277, eval loss 0.41964688897132874\n",
      "Epoch 55 train loss: 0.4496, eval loss 0.41695302724838257\n",
      "Epoch 56 train loss: 0.4243, eval loss 0.41428324580192566\n",
      "Epoch 57 train loss: 0.4193, eval loss 0.41170212626457214\n",
      "Epoch 58 train loss: 0.4151, eval loss 0.4091401696205139\n",
      "Epoch 59 train loss: 0.4258, eval loss 0.40667328238487244\n",
      "Epoch 60 train loss: 0.4295, eval loss 0.404289186000824\n",
      "Epoch 61 train loss: 0.4132, eval loss 0.40197262167930603\n",
      "Epoch 62 train loss: 0.4230, eval loss 0.39973628520965576\n",
      "Epoch 63 train loss: 0.4172, eval loss 0.39756008982658386\n",
      "Epoch 64 train loss: 0.4199, eval loss 0.3954642415046692\n",
      "Epoch 65 train loss: 0.4226, eval loss 0.39339619874954224\n",
      "Epoch 66 train loss: 0.4294, eval loss 0.3914366662502289\n",
      "Epoch 67 train loss: 0.4234, eval loss 0.38955214619636536\n",
      "Epoch 68 train loss: 0.4202, eval loss 0.3877342939376831\n",
      "Epoch 69 train loss: 0.4050, eval loss 0.38598087430000305\n",
      "Epoch 70 train loss: 0.4235, eval loss 0.3842889964580536\n",
      "Epoch 71 train loss: 0.4016, eval loss 0.38263842463493347\n",
      "Epoch 72 train loss: 0.4085, eval loss 0.3810420334339142\n",
      "Epoch 73 train loss: 0.4134, eval loss 0.3795299530029297\n",
      "Epoch 74 train loss: 0.3894, eval loss 0.37811756134033203\n",
      "Epoch 75 train loss: 0.3811, eval loss 0.376747190952301\n",
      "Epoch 76 train loss: 0.3885, eval loss 0.3754308819770813\n",
      "Epoch 77 train loss: 0.4018, eval loss 0.3741660416126251\n",
      "Epoch 78 train loss: 0.3968, eval loss 0.37295958399772644\n",
      "Epoch 79 train loss: 0.3950, eval loss 0.37179017066955566\n",
      "Epoch 80 train loss: 0.3769, eval loss 0.3706619441509247\n",
      "Epoch 81 train loss: 0.3848, eval loss 0.36957746744155884\n",
      "Epoch 82 train loss: 0.4107, eval loss 0.3685712218284607\n",
      "Epoch 83 train loss: 0.3898, eval loss 0.367581307888031\n",
      "Epoch 84 train loss: 0.4131, eval loss 0.3666253685951233\n",
      "Epoch 85 train loss: 0.3947, eval loss 0.36573266983032227\n",
      "Epoch 86 train loss: 0.3936, eval loss 0.364898681640625\n",
      "Epoch 87 train loss: 0.3758, eval loss 0.3640953600406647\n",
      "Epoch 88 train loss: 0.3864, eval loss 0.36332184076309204\n",
      "Epoch 89 train loss: 0.3784, eval loss 0.36256563663482666\n",
      "Epoch 90 train loss: 0.4024, eval loss 0.3618656098842621\n",
      "Epoch 91 train loss: 0.4061, eval loss 0.3611910939216614\n",
      "Epoch 92 train loss: 0.3896, eval loss 0.36054661870002747\n",
      "Epoch 93 train loss: 0.3991, eval loss 0.3599218428134918\n",
      "Epoch 94 train loss: 0.4170, eval loss 0.3593350648880005\n",
      "Epoch 95 train loss: 0.3760, eval loss 0.35878124833106995\n",
      "Epoch 96 train loss: 0.3809, eval loss 0.35825055837631226\n",
      "Epoch 97 train loss: 0.3950, eval loss 0.3577253818511963\n",
      "Epoch 98 train loss: 0.3920, eval loss 0.3572228252887726\n",
      "Epoch 99 train loss: 0.4104, eval loss 0.3567385673522949\n",
      "Epoch 100 train loss: 0.3832, eval loss 0.35626712441444397\n",
      "Epoch 101 train loss: 0.3913, eval loss 0.35581281781196594\n",
      "Epoch 102 train loss: 0.3667, eval loss 0.3553774058818817\n",
      "Epoch 103 train loss: 0.4005, eval loss 0.3549489974975586\n",
      "Epoch 104 train loss: 0.3759, eval loss 0.35455283522605896\n",
      "Epoch 105 train loss: 0.3837, eval loss 0.3541639447212219\n",
      "Epoch 106 train loss: 0.3935, eval loss 0.3537818491458893\n",
      "Epoch 107 train loss: 0.3972, eval loss 0.35341504216194153\n",
      "Epoch 108 train loss: 0.3922, eval loss 0.3530624210834503\n",
      "Epoch 109 train loss: 0.3771, eval loss 0.35272476077079773\n",
      "Epoch 110 train loss: 0.3823, eval loss 0.352395623922348\n",
      "Epoch 111 train loss: 0.3954, eval loss 0.3520581126213074\n",
      "Epoch 112 train loss: 0.3817, eval loss 0.3517356812953949\n",
      "Epoch 113 train loss: 0.3767, eval loss 0.3514297604560852\n",
      "Epoch 114 train loss: 0.3814, eval loss 0.3511265814304352\n",
      "Epoch 115 train loss: 0.3960, eval loss 0.35082122683525085\n",
      "Epoch 116 train loss: 0.3854, eval loss 0.35053059458732605\n",
      "Epoch 117 train loss: 0.3794, eval loss 0.3502388000488281\n",
      "Epoch 118 train loss: 0.4034, eval loss 0.3499770164489746\n",
      "Epoch 119 train loss: 0.3695, eval loss 0.3497235178947449\n",
      "Epoch 120 train loss: 0.3877, eval loss 0.3494565188884735\n",
      "Epoch 121 train loss: 0.3773, eval loss 0.34919053316116333\n",
      "Epoch 122 train loss: 0.3858, eval loss 0.34893980622291565\n",
      "Epoch 123 train loss: 0.3664, eval loss 0.3486979305744171\n",
      "Epoch 124 train loss: 0.3922, eval loss 0.3484579026699066\n",
      "Epoch 125 train loss: 0.3589, eval loss 0.3482125997543335\n",
      "Epoch 126 train loss: 0.3622, eval loss 0.34797659516334534\n",
      "Epoch 127 train loss: 0.4056, eval loss 0.34773606061935425\n",
      "Epoch 128 train loss: 0.3616, eval loss 0.34749361872673035\n",
      "Epoch 129 train loss: 0.3921, eval loss 0.34724339842796326\n",
      "Epoch 130 train loss: 0.4040, eval loss 0.34701305627822876\n",
      "Epoch 131 train loss: 0.3438, eval loss 0.346789687871933\n",
      "Epoch 132 train loss: 0.3840, eval loss 0.3465791940689087\n",
      "Epoch 133 train loss: 0.3533, eval loss 0.3463596701622009\n",
      "Epoch 134 train loss: 0.3843, eval loss 0.34614676237106323\n",
      "Epoch 135 train loss: 0.3630, eval loss 0.34595561027526855\n",
      "Epoch 136 train loss: 0.3847, eval loss 0.3457454442977905\n",
      "Epoch 137 train loss: 0.3628, eval loss 0.3455382287502289\n",
      "Epoch 138 train loss: 0.3781, eval loss 0.3453405201435089\n",
      "Epoch 139 train loss: 0.3728, eval loss 0.34513020515441895\n",
      "Epoch 140 train loss: 0.3963, eval loss 0.34492483735084534\n",
      "Epoch 141 train loss: 0.3834, eval loss 0.34473058581352234\n",
      "Epoch 142 train loss: 0.3624, eval loss 0.3445280194282532\n",
      "Epoch 143 train loss: 0.3926, eval loss 0.3443332314491272\n",
      "Epoch 144 train loss: 0.3804, eval loss 0.34414926171302795\n"
     ]
    },
    {
     "name": "stdout",
     "output_type": "stream",
     "text": [
      "Epoch 145 train loss: 0.3773, eval loss 0.34397175908088684\n",
      "Epoch 146 train loss: 0.3840, eval loss 0.34376615285873413\n",
      "Epoch 147 train loss: 0.3659, eval loss 0.3435833156108856\n",
      "Epoch 148 train loss: 0.3952, eval loss 0.3433985114097595\n",
      "Epoch 149 train loss: 0.3965, eval loss 0.3432055413722992\n",
      "Epoch 150 train loss: 0.3793, eval loss 0.343026727437973\n",
      "Epoch 151 train loss: 0.3869, eval loss 0.34284690022468567\n",
      "Epoch 152 train loss: 0.3794, eval loss 0.34266212582588196\n",
      "Epoch 153 train loss: 0.3679, eval loss 0.34248852729797363\n",
      "Epoch 154 train loss: 0.3496, eval loss 0.34233465790748596\n",
      "Epoch 155 train loss: 0.3821, eval loss 0.3421590328216553\n",
      "Epoch 156 train loss: 0.3747, eval loss 0.3419910967350006\n",
      "Epoch 157 train loss: 0.3897, eval loss 0.34182208776474\n",
      "Epoch 158 train loss: 0.3587, eval loss 0.3416438400745392\n",
      "Epoch 159 train loss: 0.3550, eval loss 0.3414703905582428\n",
      "Epoch 160 train loss: 0.3738, eval loss 0.34132301807403564\n",
      "Epoch 161 train loss: 0.3834, eval loss 0.34117335081100464\n",
      "Epoch 162 train loss: 0.3699, eval loss 0.3410267233848572\n",
      "Epoch 163 train loss: 0.4039, eval loss 0.34085386991500854\n",
      "Epoch 164 train loss: 0.4050, eval loss 0.3406839072704315\n",
      "Epoch 165 train loss: 0.3874, eval loss 0.34050557017326355\n",
      "Epoch 166 train loss: 0.3844, eval loss 0.3403605818748474\n",
      "Epoch 167 train loss: 0.3738, eval loss 0.3402026891708374\n",
      "Epoch 168 train loss: 0.3612, eval loss 0.340044230222702\n",
      "Epoch 169 train loss: 0.3999, eval loss 0.33990350365638733\n",
      "Epoch 170 train loss: 0.4045, eval loss 0.3397572636604309\n",
      "Epoch 171 train loss: 0.3725, eval loss 0.3395959734916687\n",
      "Epoch 172 train loss: 0.3736, eval loss 0.3394409716129303\n",
      "Epoch 173 train loss: 0.4177, eval loss 0.3392888605594635\n",
      "Epoch 174 train loss: 0.3690, eval loss 0.33914127945899963\n",
      "Epoch 175 train loss: 0.3661, eval loss 0.33900225162506104\n",
      "Epoch 176 train loss: 0.3743, eval loss 0.33884570002555847\n",
      "Epoch 177 train loss: 0.3621, eval loss 0.3387233316898346\n",
      "Epoch 178 train loss: 0.3580, eval loss 0.33859866857528687\n",
      "Epoch 179 train loss: 0.3729, eval loss 0.3384642004966736\n",
      "Epoch 180 train loss: 0.3944, eval loss 0.33832618594169617\n",
      "Epoch 181 train loss: 0.3507, eval loss 0.33819225430488586\n",
      "Epoch 182 train loss: 0.3646, eval loss 0.33806291222572327\n",
      "Epoch 183 train loss: 0.3756, eval loss 0.3379271626472473\n",
      "Epoch 184 train loss: 0.4032, eval loss 0.3377962112426758\n",
      "Epoch 185 train loss: 0.4002, eval loss 0.3376760184764862\n",
      "Epoch 186 train loss: 0.3432, eval loss 0.3375339210033417\n",
      "Epoch 187 train loss: 0.3380, eval loss 0.33740031719207764\n",
      "Epoch 188 train loss: 0.3550, eval loss 0.3372732996940613\n",
      "Epoch 189 train loss: 0.3539, eval loss 0.3371388614177704\n",
      "Epoch 190 train loss: 0.3682, eval loss 0.33699920773506165\n",
      "Epoch 191 train loss: 0.3769, eval loss 0.33687639236450195\n",
      "Epoch 192 train loss: 0.3854, eval loss 0.33674323558807373\n",
      "Epoch 193 train loss: 0.3376, eval loss 0.3366197943687439\n",
      "Epoch 194 train loss: 0.3857, eval loss 0.3364889621734619\n",
      "Epoch 195 train loss: 0.3785, eval loss 0.33636295795440674\n",
      "Epoch 196 train loss: 0.3848, eval loss 0.33624547719955444\n",
      "Epoch 197 train loss: 0.3690, eval loss 0.3361215889453888\n",
      "Epoch 198 train loss: 0.3726, eval loss 0.3360016644001007\n",
      "Epoch 199 train loss: 0.3879, eval loss 0.3358829617500305\n",
      "Epoch 200 train loss: 0.3486, eval loss 0.3357691466808319\n",
      "Epoch 201 train loss: 0.3618, eval loss 0.335646390914917\n",
      "Epoch 202 train loss: 0.3888, eval loss 0.3355240523815155\n",
      "Epoch 203 train loss: 0.3554, eval loss 0.3353992998600006\n",
      "Epoch 204 train loss: 0.3745, eval loss 0.33530232310295105\n",
      "Epoch 205 train loss: 0.3997, eval loss 0.33518534898757935\n",
      "Epoch 206 train loss: 0.3664, eval loss 0.33506548404693604\n",
      "Epoch 207 train loss: 0.3842, eval loss 0.33493176102638245\n",
      "Epoch 208 train loss: 0.3565, eval loss 0.3348221480846405\n",
      "Epoch 209 train loss: 0.3632, eval loss 0.3347078859806061\n",
      "Epoch 210 train loss: 0.3512, eval loss 0.33461418747901917\n",
      "Epoch 211 train loss: 0.3659, eval loss 0.33448585867881775\n",
      "Epoch 212 train loss: 0.3539, eval loss 0.33436915278434753\n",
      "Epoch 213 train loss: 0.3516, eval loss 0.33425527811050415\n",
      "Epoch 214 train loss: 0.3760, eval loss 0.3341555595397949\n",
      "Epoch 215 train loss: 0.3821, eval loss 0.33405426144599915\n",
      "Epoch 216 train loss: 0.3557, eval loss 0.3339381217956543\n",
      "Epoch 217 train loss: 0.3637, eval loss 0.3338285982608795\n",
      "Epoch 218 train loss: 0.3683, eval loss 0.3337295651435852\n",
      "Epoch 219 train loss: 0.3632, eval loss 0.3336273431777954\n",
      "Epoch 220 train loss: 0.3665, eval loss 0.33351296186447144\n",
      "Epoch 221 train loss: 0.3913, eval loss 0.333431214094162\n",
      "Epoch 222 train loss: 0.3817, eval loss 0.3333204388618469\n",
      "Epoch 223 train loss: 0.3773, eval loss 0.33321771025657654\n",
      "Epoch 224 train loss: 0.3444, eval loss 0.3330966532230377\n",
      "Epoch 225 train loss: 0.3808, eval loss 0.33301302790641785\n",
      "Epoch 226 train loss: 0.3651, eval loss 0.33292853832244873\n",
      "Epoch 227 train loss: 0.3640, eval loss 0.3328317105770111\n",
      "Epoch 228 train loss: 0.3944, eval loss 0.3327229619026184\n",
      "Epoch 229 train loss: 0.3850, eval loss 0.33261045813560486\n",
      "Epoch 230 train loss: 0.3895, eval loss 0.3325101137161255\n",
      "Epoch 231 train loss: 0.3417, eval loss 0.33242589235305786\n",
      "Epoch 232 train loss: 0.3969, eval loss 0.33233731985092163\n",
      "Epoch 233 train loss: 0.3557, eval loss 0.33223405480384827\n",
      "Epoch 234 train loss: 0.3967, eval loss 0.3321387469768524\n",
      "Epoch 235 train loss: 0.3886, eval loss 0.33204710483551025\n",
      "Epoch 236 train loss: 0.3670, eval loss 0.3319423794746399\n",
      "Epoch 237 train loss: 0.3687, eval loss 0.33185964822769165\n",
      "Epoch 238 train loss: 0.3932, eval loss 0.3317601978778839\n",
      "Epoch 239 train loss: 0.3583, eval loss 0.33166423439979553\n",
      "Epoch 240 train loss: 0.3527, eval loss 0.3315766751766205\n",
      "Epoch 241 train loss: 0.3954, eval loss 0.3314819931983948\n",
      "Epoch 242 train loss: 0.3620, eval loss 0.33140823245048523\n",
      "Epoch 243 train loss: 0.3806, eval loss 0.33131667971611023\n",
      "Epoch 244 train loss: 0.3777, eval loss 0.3312351107597351\n",
      "Epoch 245 train loss: 0.3855, eval loss 0.33113670349121094\n",
      "Epoch 246 train loss: 0.3827, eval loss 0.33106139302253723\n",
      "Epoch 247 train loss: 0.3705, eval loss 0.3309802711009979\n",
      "Epoch 248 train loss: 0.3901, eval loss 0.330900102853775\n",
      "Epoch 249 train loss: 0.3764, eval loss 0.33080363273620605\n",
      "Epoch 250 train loss: 0.3405, eval loss 0.33071500062942505\n",
      "Epoch 251 train loss: 0.4152, eval loss 0.33062276244163513\n",
      "Epoch 252 train loss: 0.3627, eval loss 0.33054104447364807\n",
      "Epoch 253 train loss: 0.3611, eval loss 0.3304574489593506\n",
      "Epoch 254 train loss: 0.3778, eval loss 0.33037033677101135\n",
      "Epoch 255 train loss: 0.3781, eval loss 0.33029139041900635\n",
      "Epoch 256 train loss: 0.3746, eval loss 0.33021196722984314\n",
      "Epoch 257 train loss: 0.4111, eval loss 0.33012065291404724\n",
      "Epoch 258 train loss: 0.3967, eval loss 0.33005863428115845\n",
      "Epoch 259 train loss: 0.3677, eval loss 0.32998090982437134\n",
      "Epoch 260 train loss: 0.3859, eval loss 0.3298974931240082\n",
      "Epoch 261 train loss: 0.3665, eval loss 0.32984429597854614\n",
      "Epoch 262 train loss: 0.3543, eval loss 0.3297617733478546\n",
      "Epoch 263 train loss: 0.3699, eval loss 0.32968395948410034\n",
      "Epoch 264 train loss: 0.3790, eval loss 0.3296138048171997\n",
      "Epoch 265 train loss: 0.3955, eval loss 0.32953760027885437\n",
      "Epoch 266 train loss: 0.3620, eval loss 0.329460471868515\n",
      "Epoch 267 train loss: 0.3687, eval loss 0.3293774724006653\n",
      "Epoch 268 train loss: 0.3814, eval loss 0.32929596304893494\n",
      "Epoch 269 train loss: 0.3379, eval loss 0.3292205035686493\n",
      "Epoch 270 train loss: 0.3949, eval loss 0.32916074991226196\n",
      "Epoch 271 train loss: 0.3822, eval loss 0.32907822728157043\n",
      "Epoch 272 train loss: 0.3697, eval loss 0.32900217175483704\n",
      "Epoch 273 train loss: 0.3353, eval loss 0.32893136143684387\n",
      "Epoch 274 train loss: 0.3460, eval loss 0.32886767387390137\n",
      "Epoch 275 train loss: 0.3717, eval loss 0.32879874110221863\n",
      "Epoch 276 train loss: 0.3720, eval loss 0.32871848344802856\n",
      "Epoch 277 train loss: 0.3682, eval loss 0.3286592364311218\n",
      "Epoch 278 train loss: 0.3654, eval loss 0.3285972774028778\n",
      "Epoch 279 train loss: 0.3956, eval loss 0.32851481437683105\n",
      "Epoch 280 train loss: 0.3948, eval loss 0.32845446467399597\n",
      "Epoch 281 train loss: 0.3894, eval loss 0.32837024331092834\n",
      "Epoch 282 train loss: 0.3882, eval loss 0.3283158838748932\n"
     ]
    },
    {
     "name": "stdout",
     "output_type": "stream",
     "text": [
      "Epoch 283 train loss: 0.3895, eval loss 0.3282393515110016\n",
      "Epoch 284 train loss: 0.3632, eval loss 0.3281833529472351\n",
      "Epoch 285 train loss: 0.3661, eval loss 0.32809677720069885\n",
      "Epoch 286 train loss: 0.3810, eval loss 0.3280375301837921\n",
      "Epoch 287 train loss: 0.3628, eval loss 0.32797181606292725\n",
      "Epoch 288 train loss: 0.3842, eval loss 0.3278885781764984\n",
      "Epoch 289 train loss: 0.3587, eval loss 0.3278025984764099\n",
      "Epoch 290 train loss: 0.3779, eval loss 0.3277294337749481\n",
      "Epoch 291 train loss: 0.3470, eval loss 0.3276671767234802\n",
      "Epoch 292 train loss: 0.3929, eval loss 0.3276199400424957\n",
      "Epoch 293 train loss: 0.3514, eval loss 0.32755157351493835\n",
      "Epoch 294 train loss: 0.3808, eval loss 0.3274867534637451\n",
      "Epoch 295 train loss: 0.4064, eval loss 0.32742324471473694\n",
      "Epoch 296 train loss: 0.3909, eval loss 0.3273659944534302\n",
      "Epoch 297 train loss: 0.3684, eval loss 0.32731062173843384\n",
      "Epoch 298 train loss: 0.3551, eval loss 0.327254056930542\n",
      "Epoch 299 train loss: 0.3726, eval loss 0.32718411087989807\n"
     ]
    }
   ],
   "source": [
    "model = RegularizedMLP(\n",
    "    input_size=X_train.shape[1], \n",
    "    dropout_p=dropout_p\n",
    ")\n",
    "optimizer = torch.optim.SGD(\n",
    "    model.parameters(), \n",
    "    lr=learning_rate, \n",
    "    weight_decay=l2_reg\n",
    ")\n",
    "loss_fn = torch.nn.BCEWithLogitsLoss()\n",
    "\n",
    "train_dataset = MyDataset(X_train, y_train)\n",
    "train_dataloader = DataLoader(train_dataset, batch_size=batch_size)\n",
    "\n",
    "steps_without_improvement = 0\n",
    "\n",
    "best_val_loss = np.inf\n",
    "best_model = None\n",
    "best_threshold = None\n",
    "\n",
    "for epoch_num in range(max_epochs):\n",
    "    model.train()\n",
    "    \n",
    "    # note that we are using DataLoader to get batches\n",
    "    for X_batch, y_batch in train_dataloader:\n",
    "        # model training\n",
    "        # implement me!\n",
    "        # raise NotImplementedError\n",
    "        y_pred = model(X_batch)\n",
    "        \n",
    "        loss = loss_fn(y_pred, y_batch)\n",
    "        loss.backward()\n",
    "        \n",
    "        optimizer.step()\n",
    "        optimizer.zero_grad()\n",
    "    \n",
    "    # model evaluation, early stopping\n",
    "    # implement me!\n",
    "    \n",
    "    model.eval()\n",
    "    valid_metrics = evaluate_model(model, X_valid, y_valid, loss_fn)\n",
    "    \n",
    "    if best_val_loss > valid_metrics[\"loss\"]:\n",
    "        best_val_loss = valid_metrics['loss']\n",
    "        best_model = deepcopy(model)\n",
    "        steps_without_improvement = 0\n",
    "        best_threshold = valid_metrics['optimal_threshold']\n",
    "        # raise NotImplementedError \n",
    "    else:\n",
    "        steps_without_improvement += 1\n",
    "        if steps_without_improvement >= early_stopping_patience:\n",
    "            break\n",
    "        # raise NotImplementedError\n",
    "    \n",
    "    print(f\"Epoch {epoch_num} train loss: {loss.item():.4f}, eval loss {valid_metrics['loss']}\")\n"
   ]
  },
  {
   "cell_type": "code",
   "execution_count": 114,
   "metadata": {},
   "outputs": [
    {
     "name": "stdout",
     "output_type": "stream",
     "text": [
      "AUROC: 90.27%\n",
      "F1: 69.07%\n",
      "Precision: 64.77%\n",
      "Recall: 73.98%\n"
     ]
    }
   ],
   "source": [
    "test_metrics = evaluate_model(best_model, X_test, y_test, loss_fn, best_threshold)\n",
    "\n",
    "print(f\"AUROC: {100 * test_metrics['AUROC']:.2f}%\")\n",
    "print(f\"F1: {100 * test_metrics['F1-score']:.2f}%\")\n",
    "print(f\"Precision: {100 * test_metrics['precision']:.2f}%\")\n",
    "print(f\"Recall: {100 * test_metrics['recall']:.2f}%\")"
   ]
  },
  {
   "cell_type": "markdown",
   "metadata": {},
   "source": [
    "Wyniki wyglądają już dużo lepiej.\n",
    "\n",
    "Na koniec laboratorium dołożymy do naszego modelu jeszcze 3 powrzechnie używane techniki, które są bardzo proste, a pozwalają często ulepszyć wynik modelu.\n",
    "\n",
    "Pierwszą z nich są **warstwy normalizacji (normalization layers)**. Powstały one początkowo z założeniem, że przez przekształcenia przestrzeni dokonywane przez sieć zmienia się rozkład prawdopodobieństw pomiędzy warstwami, czyli tzw. *internal covariate shift*. Później okazało się, że zastosowanie takiej normalizacji wygładza powierzchnię funkcji kosztu, co ułatwia i przyspiesza optymalizację. Najpowszechniej używaną normalizacją jest **batch normalization (batch norm)**.\n",
    "\n",
    "Drugim ulepszeniem jest dodanie **wag klas (class weights)**. Mamy do czynienia z problemem klasyfikacji niezbalansowanej, więc klasa mniejszościowa, ważniejsza dla nas, powinna dostać większą wagę. Implementuje się to trywialnie prosto - po prostu mnożymy wartość funkcji kosztu dla danego przykładu przez wagę dla prawdziwej klasy tego przykładu. Praktycznie każdy klasyfikator operujący na jakiejś ważonej funkcji może działać w ten sposób, nie tylko sieci neuronowe.\n",
    "\n",
    "Ostatnim ulepszeniem jest zamiana SGD na optymalizator Adam, a konkretnie na optymalizator `AdamW`. Jest to przykład **optymalizatora adaptacyjnego (adaptive optimizer)**, który potrafi zaadaptować stałą uczącą dla każdego parametru z osobna w trakcie treningu. Wykorzystuje do tego gradienty - w uproszczeniu, im większa wariancja gradientu, tym mniejsze kroki w tym kierunku robimy."
   ]
  },
  {
   "cell_type": "markdown",
   "metadata": {},
   "source": [
    "#### Zadanie 8 (1 punkt)\n",
    "\n",
    "Zaimplementuj model `NormalizingMLP`, o takiej samej strukturze jak `RegularizedMLP`, ale dodatkowo z warstwami `BatchNorm1d` pomiędzy warstwami `Linear` oraz `ReLU`.\n",
    "\n",
    "Za pomocą funkcji `compute_class_weight()` oblicz wagi dla poszczególnych klas. Użyj opcji `\"balanced\"`. Przekaż do funkcji kosztu wagę klasy pozytywnej (pamiętaj, aby zamienić ją na tensor).\n",
    "\n",
    "Zamień używany optymalizator na `AdamW`.\n",
    "\n",
    "Na koniec skopiuj resztę kodu do treningu z poprzedniego zadania, wytrenuj sieć i oblicz wyniki na zbiorze testowym."
   ]
  },
  {
   "cell_type": "code",
   "execution_count": 115,
   "metadata": {},
   "outputs": [],
   "source": [
    "class NormalizingMLP(nn.Module):\n",
    "    def __init__(self, input_size: int, dropout_p: float = 0.5):\n",
    "        super().__init__()\n",
    "\n",
    "        # implement me!\n",
    "        # raise NotImplementedError\n",
    "        self.mlp = nn.Sequential(\n",
    "            nn.Linear(input_size, 256),\n",
    "            nn.BatchNorm1d(256),\n",
    "            nn.ReLU(),\n",
    "            nn.Dropout(dropout_p),\n",
    "            nn.Linear(256, 128),\n",
    "            nn.BatchNorm1d(128),\n",
    "            nn.ReLU(),\n",
    "            nn.Dropout(dropout_p),\n",
    "            nn.Linear(128, 1)\n",
    "        )\n",
    "\n",
    "    def forward(self, x):\n",
    "        # raise NotImplementedError\n",
    "        return self.mlp(x)\n",
    "\n",
    "    def predict_proba(self, x):\n",
    "        return sigmoid(self(x))\n",
    "    \n",
    "    def predict(self, x):\n",
    "        y_pred_score = self.predict_proba(x)\n",
    "        return torch.argmax(y_pred_score, dim=1)\n"
   ]
  },
  {
   "cell_type": "code",
   "execution_count": 116,
   "metadata": {},
   "outputs": [],
   "source": [
    "from sklearn.utils.class_weight import compute_class_weight\n",
    "\n",
    "weights = compute_class_weight(\n",
    "    class_weight=\"balanced\",\n",
    "    classes=np.unique(y),\n",
    "    y=y\n",
    ")\n",
    "\n",
    "learning_rate = 1e-3\n",
    "dropout_p = 0.5\n",
    "l2_reg = 1e-4\n",
    "batch_size = 128\n",
    "max_epochs = 300\n",
    "\n",
    "early_stopping_patience = 4"
   ]
  },
  {
   "cell_type": "code",
   "execution_count": 117,
   "metadata": {
    "scrolled": true
   },
   "outputs": [
    {
     "name": "stdout",
     "output_type": "stream",
     "text": [
      "Epoch 0 train loss: 0.5377, eval loss 0.48279619216918945\n",
      "Epoch 1 train loss: 0.6169, eval loss 0.47702497243881226\n",
      "Epoch 2 train loss: 0.5494, eval loss 0.47305792570114136\n",
      "Epoch 3 train loss: 0.5570, eval loss 0.47331079840660095\n",
      "Epoch 4 train loss: 0.6153, eval loss 0.47438764572143555\n",
      "Epoch 5 train loss: 0.5231, eval loss 0.47276630997657776\n",
      "Epoch 6 train loss: 0.5705, eval loss 0.4730445444583893\n",
      "Epoch 7 train loss: 0.5600, eval loss 0.47295835614204407\n",
      "Epoch 8 train loss: 0.5184, eval loss 0.47398266196250916\n"
     ]
    }
   ],
   "source": [
    "model = NormalizingMLP(\n",
    "    input_size=X_train.shape[1], \n",
    "    dropout_p=dropout_p\n",
    ")\n",
    "optimizer = torch.optim.AdamW(model.parameters(), lr=learning_rate, weight_decay=l2_reg)\n",
    "loss_fn = torch.nn.BCEWithLogitsLoss(pos_weight=torch.from_numpy(weights)[1])\n",
    "\n",
    "train_dataset = MyDataset(X_train, y_train)\n",
    "train_dataloader = DataLoader(train_dataset, batch_size=batch_size)\n",
    "\n",
    "steps_without_improvement = 0\n",
    "\n",
    "best_val_loss = np.inf\n",
    "best_model = None\n",
    "best_threshold = None\n",
    "\n",
    "for epoch_num in range(max_epochs):\n",
    "    model.train()\n",
    "    \n",
    "    # note that we are using DataLoader to get batches\n",
    "    for X_batch, y_batch in train_dataloader:\n",
    "        # model training\n",
    "        # implement me!\n",
    "        # raise NotImplementedError\n",
    "        y_pred = model(X_batch)\n",
    "        loss = loss_fn(y_pred, y_batch)\n",
    "        loss.backward()\n",
    "\n",
    "        optimizer.step()\n",
    "        optimizer.zero_grad()\n",
    "    \n",
    "    # model evaluation, early stopping\n",
    "    # implement me!\n",
    "    \n",
    "    model.eval()\n",
    "    valid_metrics = evaluate_model(model, X_valid, y_valid, loss_fn)\n",
    "#     if ???:\n",
    "#         raise NotImplementedError \n",
    "#     else:\n",
    "#         steps_without_improvement += 1\n",
    "#         raise NotImplementedError\n",
    "\n",
    "    if best_val_loss > valid_metrics[\"loss\"]:\n",
    "        best_val_loss = valid_metrics[\"loss\"]\n",
    "        best_model = deepcopy(model)\n",
    "        best_threshold = valid_metrics[\"optimal_threshold\"]\n",
    "        steps_without_improvement = 0\n",
    "    else:\n",
    "        steps_without_improvement += 1\n",
    "        if steps_without_improvement >= early_stopping_patience:\n",
    "            break\n",
    "    print(f\"Epoch {epoch_num} train loss: {loss.item():.4f}, eval loss {valid_metrics['loss']}\")\n"
   ]
  },
  {
   "cell_type": "code",
   "execution_count": 118,
   "metadata": {
    "scrolled": true
   },
   "outputs": [
    {
     "name": "stdout",
     "output_type": "stream",
     "text": [
      "AUROC: 90.80%\n",
      "F1: 69.38%\n",
      "Precision: 65.77%\n",
      "Recall: 73.41%\n"
     ]
    }
   ],
   "source": [
    "test_metrics = evaluate_model(best_model, X_test, y_test, loss_fn, best_threshold)\n",
    "\n",
    "print(f\"AUROC: {100 * test_metrics['AUROC']:.2f}%\")\n",
    "print(f\"F1: {100 * test_metrics['F1-score']:.2f}%\")\n",
    "print(f\"Precision: {100 * test_metrics['precision']:.2f}%\")\n",
    "print(f\"Recall: {100 * test_metrics['recall']:.2f}%\")"
   ]
  },
  {
   "cell_type": "markdown",
   "metadata": {},
   "source": [
    "## Pytania kontrolne (1 punkt)\n",
    "\n",
    "1. Wymień 4 najważniejsze twoim zdaniem hiperparametry sieci neuronowej. larning rate, liczba neuronów w warstwie, funkcje aktywacyjne oraz liczba warstw \n",
    "2. Czy widzisz jakiś problem w użyciu regularyzacji L1 w treningu sieci neuronowych? Czy dropout może twoim zdaniem stanowić alternatywę dla tego rodzaju regularyzacji? Droput może być alternatywą dla regularyzacji L1, gdyż przez wyłączanie losowych neuronów zapobiega overfittingowi, czego L1 nie zapewnia.\n",
    "3. Czy użycie innej metryki do wczesnego stopu da taki sam model końcowy? Czemu? Użycie innej metryki najprawodpodobniej da inny wynik, bo różne metryki nie zachowują się tak samo podczas ternowania modelu."
   ]
  },
  {
   "cell_type": "markdown",
   "metadata": {
    "id": "XyoRnHT4GFR9"
   },
   "source": [
    "## Akceleracja sprzętowa (dla zainteresowanych)"
   ]
  },
  {
   "cell_type": "markdown",
   "metadata": {},
   "source": [
    "Jak wcześniej wspominaliśmy, użycie akceleracji sprzętowej, czyli po prostu GPU do obliczeń, jest bardzo efektywne w przypadku sieci neuronowych. Karty graficzne bardzo efektywnie mnożą macierze, a sieci neuronowe to, jak można było się przekonać, dużo mnożenia macierzy.\n",
    "\n",
    "W PyTorchu jest to dosyć łatwe, ale trzeba robić to explicite. Służy do tego metoda `.to()`, która przenosi tensory między CPU i GPU. Poniżej przykład, jak to się robi (oczywiście trzeba mieć skonfigurowane GPU, żeby działało):"
   ]
  },
  {
   "cell_type": "code",
   "execution_count": null,
   "metadata": {},
   "outputs": [],
   "source": [
    "import time \n",
    "\n",
    "model = NormalizingMLP(\n",
    "    input_size=X_train.shape[1], \n",
    "    dropout_p=dropout_p\n",
    ").to('cuda')\n",
    "\n",
    "optimizer = torch.optim.AdamW(model.parameters(), lr=learning_rate, weight_decay=1e-4)\n",
    "\n",
    "# note that we are using loss function with sigmoid built in\n",
    "loss_fn = torch.nn.BCEWithLogitsLoss(pos_weight=torch.from_numpy(weights)[1].to('cuda'))\n",
    "\n",
    "step_counter = 0\n",
    "time_from_eval = time.time()\n",
    "for epoch_id in range(30):\n",
    "    for batch_x, batch_y in train_dataloader:\n",
    "        batch_x = batch_x.to('cuda')\n",
    "        batch_y = batch_y.to('cuda')\n",
    "        \n",
    "        loss = loss_fn(model(batch_x), batch_y)\n",
    "        loss.backward()\n",
    "\n",
    "        optimizer.step()\n",
    "        optimizer.zero_grad()\n",
    "        \n",
    "        if step_counter % evaluation_steps == 0:\n",
    "            print(f\"Epoch {epoch_id} train loss: {loss.item():.4f}, time: {time.time() - time_from_eval}\")\n",
    "            time_from_eval = time.time()\n",
    "\n",
    "        step_counter += 1\n",
    "\n",
    "test_res = evaluate_model(model.to('cpu'), X_test, y_test, loss_fn.to('cpu'), threshold=0.5)\n",
    "\n",
    "print(f\"AUROC: {100 * test_metrics['AUROC']:.2f}%\")\n",
    "print(f\"F1: {100 * test_metrics['F1-score']:.2f}%\")"
   ]
  },
  {
   "cell_type": "markdown",
   "metadata": {},
   "source": [
    "Wyniki mogą się różnić z modelem na CPU, zauważ o ile szybszy jest ten model w porównaniu z CPU (przynajmniej w przypadków scenariuszy tak będzie ;)).\n",
    "\n",
    "Dla zainteresowanych polecamy [tę serie artykułów](https://medium.com/@adi.fu7/ai-accelerators-part-i-intro-822c2cdb4ca4)"
   ]
  },
  {
   "cell_type": "markdown",
   "metadata": {},
   "source": [
    "## Zadanie dla chętnych"
   ]
  },
  {
   "cell_type": "markdown",
   "metadata": {},
   "source": [
    "Jak widzieliśmy, sieci neuronowe mają bardzo dużo hiperparametrów. Przeszukiwanie ich grid search'em jest więc niewykonalne, a chociaż random search by działał, to potrzebowałby wielu iteracji, co też jest kosztowne obliczeniowo.\n",
    "\n",
    "Zaimplementuj inteligentne przeszukiwanie przestrzeni hiperparametrów za pomocą biblioteki [Optuna](https://optuna.org/). Implementuje ona między innymi algorytm Tree Parzen Estimator (TPE), należący do grupy algorytmów typu Bayesian search. Typowo osiągają one bardzo dobre wyniki, a właściwie zawsze lepsze od przeszukiwania losowego. Do tego wystarcza im często niewielka liczba kroków.\n",
    "\n",
    "Zaimplementuj 3-warstwową sieć MLP, gdzie pierwsza warstwa ma rozmiar ukryty N, a druga N // 2. Ucz ją optymalizatorem Adam przez maksymalnie 300 epok z cierpliwością 10.\n",
    "\n",
    "Przeszukaj wybrane zakresy dla hiperparametrów:\n",
    "- rozmiar warstw ukrytych (N)\n",
    "- stała ucząca\n",
    "- batch size\n",
    "- siła regularyzacji L2\n",
    "- prawdopodobieństwo dropoutu\n",
    "\n",
    "Wykorzystaj przynajmniej 30 iteracji. Następnie przełącz algorytm na losowy (Optuna także jego implementuje), wykonaj 30 iteracji i porównaj jakość wyników.\n",
    "\n",
    "Przydatne materiały:\n",
    "- [Optuna code examples - PyTorch](https://optuna.org/#code_examples)\n",
    "- [Auto-Tuning Hyperparameters with Optuna and PyTorch](https://www.youtube.com/watch?v=P6NwZVl8ttc)\n",
    "- [Hyperparameter Tuning of Neural Networks with Optuna and PyTorch](https://towardsdatascience.com/hyperparameter-tuning-of-neural-networks-with-optuna-and-pytorch-22e179efc837)\n",
    "- [Using Optuna to Optimize PyTorch Hyperparameters](https://medium.com/pytorch/using-optuna-to-optimize-pytorch-hyperparameters-990607385e36)"
   ]
  },
  {
   "cell_type": "code",
   "execution_count": null,
   "metadata": {},
   "outputs": [],
   "source": []
  }
 ],
 "metadata": {
  "colab": {
   "collapsed_sections": [],
   "provenance": []
  },
  "kernelspec": {
   "display_name": "Python 3 (ipykernel)",
   "language": "python",
   "name": "python3"
  },
  "language_info": {
   "codemirror_mode": {
    "name": "ipython",
    "version": 3
   },
   "file_extension": ".py",
   "mimetype": "text/x-python",
   "name": "python",
   "nbconvert_exporter": "python",
   "pygments_lexer": "ipython3",
   "version": "3.9.7"
  },
  "toc": {
   "base_numbering": 1,
   "nav_menu": {},
   "number_sections": false,
   "sideBar": false,
   "skip_h1_title": false,
   "title_cell": "Table of Contents",
   "title_sidebar": "Contents",
   "toc_cell": false,
   "toc_position": {},
   "toc_section_display": true,
   "toc_window_display": true
  },
  "vscode": {
   "interpreter": {
    "hash": "a5d7af91182035c53be6efb3f9b18ffc3e259c9c524705249407647c970de949"
   }
  }
 },
 "nbformat": 4,
 "nbformat_minor": 1
}
